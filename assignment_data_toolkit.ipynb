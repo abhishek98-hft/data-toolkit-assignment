{
  "nbformat": 4,
  "nbformat_minor": 0,
  "metadata": {
    "colab": {
      "provenance": []
    },
    "kernelspec": {
      "name": "python3",
      "display_name": "Python 3"
    },
    "language_info": {
      "name": "python"
    }
  },
  "cells": [
    {
      "cell_type": "markdown",
      "source": [
        "#**THEORY QUESTION**"
      ],
      "metadata": {
        "id": "UeQuMNbLnsp4"
      }
    },
    {
      "cell_type": "markdown",
      "source": [
        "Q1: What is NumPy, and why is it widely used in Python?"
      ],
      "metadata": {
        "id": "TXAIIsUIoUPJ"
      }
    },
    {
      "cell_type": "markdown",
      "source": [
        "Ans:\n",
        "\n",
        "*NumPy* (short for *Numerical Python*) is a fundamental library for numerical computing in Python. It provides powerful tools for working with arrays, matrices, and numerical data, and it is widely used in the Python ecosystem for scientific and mathematical computations.\n",
        "\n",
        "Here are some reasons why NumPy is widely used:\n",
        "\n",
        "1. *Efficient Array Operations*: NumPy provides a highly efficient N-dimensional array object, called ndarray. These arrays allow for fast element-wise operations, which are much more efficient than using Python's built-in lists for numerical computations.\n",
        "\n",
        "2. *Vectorization*: With NumPy, you can perform operations on entire arrays without the need for explicit loops. This is called vectorization, and it significantly speeds up calculations by leveraging low-level optimizations.\n",
        "\n",
        "3. *Memory Efficiency*: NumPy arrays consume less memory than Python lists because they store elements of a single data type and are optimized for performance. This is crucial when dealing with large datasets.\n",
        "\n",
        "4. *Mathematical Functions*: NumPy includes a large collection of mathematical functions (like trigonometric, logarithmic, and statistical operations), which can be applied directly to arrays.\n",
        "\n",
        "5. *Integration with Other Libraries: Many other Python libraries, such as **Pandas, **SciPy, **Matplotlib, and **scikit-learn*, rely on NumPy arrays for handling numerical data, making it a core part of the Python data science and scientific computing ecosystem.\n",
        "\n",
        "6. *Multi-dimensional Arrays*: NumPy supports multi-dimensional arrays, allowing you to work with more complex data structures like matrices and tensors, which are essential in fields such as machine learning, physics simulations, and computer graphics.\n",
        "\n",
        "7. *Cross-platform*: NumPy is available across different platforms (Windows, macOS, Linux) and supports integration with other languages like C and Fortran for performance-critical applications.\n",
        "\n",
        "In summary, NumPy is a powerful library for handling numerical data and performing efficient computations, making it indispensable for fields like data science, machine learning, engineering, and scientific research."
      ],
      "metadata": {
        "id": "k8NjZSMVRQXD"
      }
    },
    {
      "cell_type": "markdown",
      "source": [
        "Q2: How does broadcasting work in NumPy?"
      ],
      "metadata": {
        "id": "t0q6l6h4oZoe"
      }
    },
    {
      "cell_type": "markdown",
      "source": [
        "Ans:\n",
        "\n",
        " *Broadcasting* in NumPy is a powerful feature that allows NumPy to perform element-wise operations on arrays of different shapes and sizes. It automatically expands the dimensions of smaller arrays to match the shape of larger arrays, making it easier and more efficient to perform operations without needing explicit loops or reshaping of arrays.\n",
        "\n",
        "### How Broadcasting Works\n",
        "\n",
        "When NumPy performs operations between two arrays, it compares their shapes. If the shapes are not the same, NumPy tries to apply broadcasting rules to make them compatible. Here are the rules that govern broadcasting:\n",
        "\n",
        "1. *If the arrays have a different number of dimensions*, NumPy adds \"1s\" to the smaller array's shape, padding it on the left (i.e., the most significant axis).\n",
        "   \n",
        "2. *If the dimensions are different*, the size of the smaller array along the dimension must be either 1 or match the corresponding size of the larger array along that dimension. If the sizes don't match and aren't 1, broadcasting fails.\n",
        "\n",
        "3. *Broadcasting the smaller array*: When broadcasting occurs, NumPy effectively \"stretches\" the smaller array along the dimensions where the size is 1 to match the size of the larger array.\n",
        "\n",
        "\n",
        "### Key Points:\n",
        "- Broadcasting eliminates the need for manual looping or reshaping arrays to perform element-wise operations.\n",
        "- It's memory efficient because NumPy doesn't actually duplicate the data but rather operates on the original arrays' shapes and data.\n",
        "- Understanding broadcasting can help you write cleaner, faster, and more efficient code when working with arrays in NumPy.\n",
        "\n",
        "### Broadcasting is not limited to simple arithmetic operations. It also works for more complex operations like logical comparisons, broadcasting functions like np.maximum(), and even mathematical functions like np.sin()."
      ],
      "metadata": {
        "id": "k4Qz6vm5R1HN"
      }
    },
    {
      "cell_type": "markdown",
      "source": [
        "Q3: What is a Pandas DataFrame?"
      ],
      "metadata": {
        "id": "oxYwT6KRocLe"
      }
    },
    {
      "cell_type": "markdown",
      "source": [
        "Ans:\n",
        "\n",
        " A *Pandas DataFrame* is one of the most commonly used data structures in the *Pandas* library, which is built on top of NumPy. It is a two-dimensional, labeled data structure that is designed for handling and analyzing data in a table-like format, similar to an Excel spreadsheet or a SQL table.\n",
        "\n",
        "### Key Features of a Pandas DataFrame:\n",
        "1. *Rows and Columns*: A DataFrame consists of rows and columns, where each column can hold data of different types (e.g., integers, floats, strings, etc.).\n",
        "   \n",
        "2. *Labels: Both rows and columns have labels (also called **indices* for rows and *columns* for columns). This allows for easy data access and manipulation by referencing labels instead of relying on integer-based indexing.\n",
        "\n",
        "3. *Heterogeneous Data Types*: Each column in a DataFrame can have different data types. For example, one column could contain strings, another could contain integers, and another could contain floating-point numbers.\n",
        "\n",
        "4. *Size-Mutable*: You can easily add or remove columns, rows, or modify the DataFrame in place without needing to recreate it.\n",
        "\n",
        "5. *Efficient Data Manipulation*: Pandas provides numerous powerful functions for cleaning, filtering, reshaping, and transforming data, which makes it ideal for data analysis tasks."
      ],
      "metadata": {
        "id": "iJfIOgUbS6Rl"
      }
    },
    {
      "cell_type": "markdown",
      "source": [
        "Q4: Explain the use of the groupby() method in PandasA ?"
      ],
      "metadata": {
        "id": "KeqEn1jbodTX"
      }
    },
    {
      "cell_type": "markdown",
      "source": [
        "Ans:\n",
        "\n",
        " The groupby method in pandas is used to group data based on one or more columns, allowing for aggregation, transformation, or filtering operations on subsets of the data. It is commonly used for data analysis and summarization.\n",
        "\n",
        "## **How groupby Works**\n",
        "The groupby method splits the dataset into groups, performs operations on each group, and then combines the results.\n",
        "\n",
        "### *Syntax*\n",
        "python\n",
        "df.groupby(by, axis=0, level=None, as_index=True, sort=True, group_keys=True, observed=False, dropna=True)\n",
        "\n",
        "- **by**: Column(s) or key(s) to group by.\n",
        "- **as_index**: If True, the grouping column(s) become the index in the output.\n",
        "- **sort**: If True, sorts the group keys.\n",
        "- **group_keys**: If True, keeps group labels in the result.\n",
        "- **dropna**: If True, excludes groups where key is NaN."
      ],
      "metadata": {
        "id": "ZBxfVu24TqfW"
      }
    },
    {
      "cell_type": "markdown",
      "source": [
        "Q5: Why is Seaborn preferred for statistical visualizations?"
      ],
      "metadata": {
        "id": "LDTJWIUmoeJw"
      }
    },
    {
      "cell_type": "markdown",
      "source": [
        "Ans:\n",
        "\n",
        " Seaborn is preferred for statistical visualization because it is specifically designed to make complex statistical plots easy to create and visually appealing. Here are the key reasons why Seaborn is widely used:  \n",
        "\n",
        "### *1. High-Level Interface for Statistical Plots*  \n",
        "Seaborn simplifies the creation of common statistical plots, such as histograms, box plots, violin plots, and regression plots, without requiring extensive coding.  \n",
        "\n",
        "### *2. Built-in Support for Pandas DataFrames*  \n",
        "Seaborn integrates seamlessly with Pandas, allowing users to pass DataFrame columns directly into plotting functions, making data manipulation and visualization more efficient.  \n",
        "\n",
        "### *3. Automatic Aesthetics and Styling*  \n",
        "Seaborn applies aesthetically pleasing themes and color palettes by default, producing more polished and publication-ready visualizations compared to raw Matplotlib plots.  \n",
        "\n",
        "### *4. Powerful Categorical and Statistical Plotting*  \n",
        "Seaborn provides built-in functions for exploring relationships between variables, including:  \n",
        "- sns.barplot() – Aggregated categorical data visualization  \n",
        "- sns.boxplot() – Distribution and outlier detection  \n",
        "- sns.violinplot() – Distribution with density estimation  \n",
        "- sns.pairplot() – Pairwise relationships in a dataset  \n",
        "- sns.heatmap() – Correlation matrices and tabular data visualization  \n",
        "\n",
        "### *5. Built-in Regression and Statistical Analysis*  \n",
        "Functions like sns.regplot() and sns.lmplot() allow users to visualize regression models with confidence intervals, making it useful for statistical analysis.  \n",
        "\n",
        "### *6. Automatic Handling of Missing Data*  \n",
        "Seaborn handles missing values gracefully, reducing errors in visualization workflows.  \n",
        "\n",
        "### *7. Integration with Matplotlib*  \n",
        "Seaborn is built on Matplotlib, so users can customize plots using Matplotlib functions while still benefiting from Seaborn’s high-level API.  \n",
        "\n"
      ],
      "metadata": {
        "id": "CVw4TyVZUG1j"
      }
    },
    {
      "cell_type": "markdown",
      "source": [
        "Q6: What are the differences between NumPy arrays and Python lists?"
      ],
      "metadata": {
        "id": "MzxgPinSoe7T"
      }
    },
    {
      "cell_type": "markdown",
      "source": [
        "Ans:\n",
        "\n",
        " NumPy arrays and Python lists are both used for storing and manipulating collections of data, but they have significant differences in terms of performance, functionality, and usage.  \n",
        "\n",
        "## *1. Performance and Speed*  \n",
        "- *NumPy Array*: Faster because it stores elements in a contiguous block of memory and uses optimized C-based functions.  \n",
        "- *Python List*: Slower because it stores pointers to objects, leading to higher overhead in memory and operations.  \n",
        "\n",
        "## *2. Memory Efficiency*  \n",
        "- *NumPy Array*: More memory-efficient since it uses a fixed data type (e.g., int32, float64), avoiding unnecessary memory overhead.  \n",
        "- *Python List*: Less efficient because it stores heterogeneous data types, leading to increased memory usage.  \n",
        "\n",
        "## *3. Data Type Handling*  \n",
        "- *NumPy Array*: Requires all elements to be of the same data type.  \n",
        "- *Python List*: Can hold elements of different data types in the same list.  \n",
        "\n",
        "## *4. Functionality*  \n",
        "- *NumPy Array*: Supports vectorized operations (e.g., element-wise addition, multiplication) for efficient computations.  \n",
        "- *Python List*: Requires explicit loops for mathematical operations, making it slower for numerical computations.  \n",
        "\n",
        "## *5. Built-in Operations*  \n",
        "- *NumPy Array*: Offers a wide range of mathematical, statistical, and linear algebra functions (e.g., np.mean(), np.dot()).  \n",
        "- *Python List*: Lacks built-in mathematical operations; requires manual implementation or use of external libraries.  \n",
        "\n",
        "## *6. Multidimensional Support*  \n",
        "- *NumPy Array*: Supports multidimensional arrays (e.g., 2D matrices, 3D tensors) using numpy.ndarray.  \n",
        "- *Python List*: Only supports basic nested lists, which are less efficient for matrix operations.  \n",
        "\n",
        "## *7. Indexing and Slicing*  \n",
        "- *NumPy Array*: Supports advanced indexing, boolean indexing, and slicing with broadcasting.  \n",
        "- *Python List*: Supports basic indexing and slicing but lacks NumPy’s advanced features.  \n",
        "\n",
        "\n",
        "| Feature | NumPy Array | Python List |\n",
        "|---------|------------|-------------|\n",
        "| Speed | Faster | Slower |\n",
        "| Memory Usage | Less | More |\n",
        "| Data Type | Homogeneous | Heterogeneous |\n",
        "| Operations | Vectorized | Requires loops |\n",
        "| Multidimensional | Supported | Nested lists required |\n",
        "\n",
        "NumPy arrays are the preferred choice for numerical and scientific computing due to their efficiency, while Python lists are more flexible for general-purpose programming."
      ],
      "metadata": {
        "id": "EjNfPsv9Ujg4"
      }
    },
    {
      "cell_type": "markdown",
      "source": [
        "Q7: What is a heatmap, and when should it be used?"
      ],
      "metadata": {
        "id": "DTeC7tBEofsz"
      }
    },
    {
      "cell_type": "markdown",
      "source": [
        "Ans:\n",
        " ### *What is a Heatmap?*  \n",
        "A *heatmap* is a type of data visualization that uses color to represent values in a matrix or dataset. It helps identify patterns, correlations, and variations in data by using different shades of color to indicate higher or lower values.\n",
        "\n",
        "### *When Should a Heatmap Be Used?*  \n",
        "\n",
        "1. *Showing Correlations in a Dataset*  \n",
        "   - Helps visualize relationships between numerical variables in a correlation matrix.  \n",
        "   - Example: Analyzing how different features in a dataset are related (e.g., correlation between sales and advertising budget).  \n",
        "\n",
        "2. *Identifying Patterns in Large Datasets*  \n",
        "   - Useful for spotting trends, clusters, and outliers.  \n",
        "   - Example: Heatmaps in machine learning for feature importance.  \n",
        "\n",
        "3. *Visualizing Frequency or Density of Data*  \n",
        "   - Displays how often certain values occur.  \n",
        "   - Example: Website click heatmaps to analyze user behavior.  \n",
        "\n",
        "4. *Comparing Categorical and Numerical Data*  \n",
        "   - Useful for analyzing grouped data.  \n",
        "   - Example: Showing customer satisfaction levels across different product categories.  \n",
        "\n",
        "5. *Representing Geographic Data*  \n",
        "   - Used in maps to represent population density, temperature variations, or crime rates.  \n",
        "\n",
        "Heatmaps are useful for quickly analyzing relationships, trends, and distributions in data. They are widely used in statistical analysis, business analytics, user experience research, and scientific research."
      ],
      "metadata": {
        "id": "OYRqoGAlVF9Z"
      }
    },
    {
      "cell_type": "markdown",
      "source": [
        "Q8: What does the term “vectorized operation” mean?"
      ],
      "metadata": {
        "id": "uLGhkSzQogmU"
      }
    },
    {
      "cell_type": "markdown",
      "source": [
        "Ans:\n",
        "### *What Are Vectorized Operations?*  \n",
        "Vectorized operations are computations that apply operations simultaneously to entire arrays or collections of data, rather than using explicit loops. This approach is optimized for performance and is commonly used in libraries like *NumPy* and *pandas*.\n",
        "\n",
        "### *Why Use Vectorized Operations?*  \n",
        "1. *Faster Execution* – Uses low-level optimizations in C and avoids Python loops.  \n",
        "2. *More Readable Code* – Eliminates the need for explicit for loops.  \n",
        "3. *Memory Efficient* – Uses contiguous memory blocks, reducing overhead.  \n",
        "\n",
        "Vectorized operations improve performance by eliminating slow Python loops and leveraging optimized operations on entire datasets. They are essential for numerical and data analysis tasks."
      ],
      "metadata": {
        "id": "fPvVFNL3WF7i"
      }
    },
    {
      "cell_type": "markdown",
      "source": [
        "Q9: How does Matplotlib differ from Plotly?"
      ],
      "metadata": {
        "id": "ik8XxD4yoh8d"
      }
    },
    {
      "cell_type": "markdown",
      "source": [
        "Ans:\n",
        " ### *Matplotlib vs. Plotly: Key Differences*  \n",
        "\n",
        "Both *Matplotlib* and *Plotly* are popular Python libraries for data visualization, but they have different strengths and use cases.  \n",
        "\n",
        "| Feature        | *Matplotlib* | *Plotly* |\n",
        "|---------------|---------------|------------|\n",
        "| *Type of Library* | Static plotting | Interactive plotting |\n",
        "| *Customization* | Highly customizable, but requires more code | Built-in interactivity and attractive defaults |\n",
        "| *Ease of Use* | Requires manual setup for advanced visualizations | Easier to use for interactive and web-based plots |\n",
        "| *Interactivity* | Static by default, can be interactive using mpl_interactions or %matplotlib notebook | Fully interactive (zoom, hover, pan) by default |\n",
        "| *Performance* | Efficient for simple plots but slower for large datasets | Better performance for large datasets |\n",
        "| *Integration* | Works well with Pandas, Seaborn, and NumPy | Integrates with Dash for web apps |\n",
        "| *3D & Maps Support* | Supports 3D (mpl_toolkits.mplot3d), but limited interactivity | Strong support for 3D, maps, and interactive charts |\n",
        "\n",
        "---\n",
        "\n",
        "### *When to Use Matplotlib?*  \n",
        "✔ When you need *static* charts for reports or publications.  \n",
        "✔ When you require *deep customization* of plots.  \n",
        "✔ When working with *scientific computing* and mathematical plots.  \n",
        "\n",
        "\n",
        "\n",
        "### *When to Use Plotly?*  \n",
        "✔ When you need *interactive* visualizations.  \n",
        "✔ When working with *web applications* (Dash integration).  \n",
        "✔ When dealing with *geospatial data* or *3D plotting*.  \n",
        "\n",
        "\n",
        "- *Use Matplotlib* if you need static, highly customizable, and publication-quality plots.  \n",
        "- *Use Plotly* if you need interactive, web-friendly, and visually appealing plots with minimal effort."
      ],
      "metadata": {
        "id": "s0HRiZ00WesD"
      }
    },
    {
      "cell_type": "markdown",
      "source": [
        "Q10: What is the significance of hierarchical indexing in Pandas?"
      ],
      "metadata": {
        "id": "rx4Li2NUoirY"
      }
    },
    {
      "cell_type": "markdown",
      "source": [
        "Ans:\n",
        " ### *Significance of Hierarchical Indexing in Python (Pandas)*  \n",
        "\n",
        "*Hierarchical indexing (MultiIndex)* in Pandas allows multiple levels of indexing on rows and columns. This makes it easier to work with complex, structured data, such as time series, panel data, and multi-dimensional datasets.  \n",
        "\n",
        "### *Key Benefits of Hierarchical Indexing*  \n",
        "\n",
        "1. *Improves Data Organization*  \n",
        "   - Allows a natural way to store multi-dimensional data in a 2D DataFrame.  \n",
        "   - Helps represent relationships between categories, such as countries → cities → population.  \n",
        "\n",
        "2. *Enables Advanced Data Selection*  \n",
        "   - Makes it easier to filter, slice, and subset data based on multiple criteria.  \n",
        "\n",
        "3. *Facilitates Grouping and Aggregation*  \n",
        "   - Enhances groupby operations by allowing aggregations at different hierarchical levels.  \n",
        "\n",
        "4. *Efficient Pivoting and Reshaping*  \n",
        "   - Supports operations like stack() and unstack() to transform data efficiently.  \n",
        "\n",
        "\n",
        "\n",
        "Hierarchical indexing is *essential* for managing multi-dimensional data within a single DataFrame. It enhances *data organization, selection, grouping, and transformation, making it a powerful tool in **data science and analytics*."
      ],
      "metadata": {
        "id": "TmVmfhiZW_pL"
      }
    },
    {
      "cell_type": "markdown",
      "source": [
        "Q11:  What is the role of Seaborn’s pairplot() function?"
      ],
      "metadata": {
        "id": "xTaHTymAojUC"
      }
    },
    {
      "cell_type": "markdown",
      "source": [
        "Ans:\n",
        " ### **Role of Seaborn's pairplot() Function**  \n",
        "\n",
        "The seaborn.pairplot() function is used to create a grid of scatter plots and histograms that visualize pairwise relationships in a dataset. It is particularly useful for *exploratory data analysis (EDA)* to identify trends, correlations, and outliers among numerical variables.  \n",
        "\n",
        "---\n",
        "\n",
        "### **Key Features of pairplot()**\n",
        "1. *Visualizes Relationships Between Multiple Variables*  \n",
        "   - Plots scatter plots for numerical variable pairs.  \n",
        "   - Plots histograms (or KDE plots) on the diagonal for individual variable distributions.  \n",
        "\n",
        "2. *Color Coding by Categories*  \n",
        "   - Supports the hue parameter to color-code data points based on a categorical variable.  \n",
        "\n",
        "3. *Quick Data Insights*  \n",
        "   - Helps detect *correlations, clusters, and outliers* at a glance.  \n",
        "\n",
        "4. *Highly Customizable*  \n",
        "   - Supports different plot types (scatter, KDE, regression) and styling options.  \n",
        "\n",
        "\n",
        "\n",
        "\n",
        "### **When to Use pairplot()?**\n",
        "✔ When exploring relationships between numerical variables.  \n",
        "✔ When checking for *correlations* or *clusters* in a dataset.  \n",
        "✔ When analyzing *multivariate* data, such as in machine learning preprocessing.  \n",
        "\n",
        "\n",
        "Seaborn's pairplot() is a powerful and easy-to-use function for *visualizing relationships* in datasets, making it a *go-to tool* for quick and effective exploratory data analysis (EDA)."
      ],
      "metadata": {
        "id": "jJCejffGXs-Z"
      }
    },
    {
      "cell_type": "markdown",
      "source": [
        "Q12:  What is the purpose of the describe() function in Pandas?"
      ],
      "metadata": {
        "id": "LwVB-jVkokDH"
      }
    },
    {
      "cell_type": "markdown",
      "source": [
        "Ans:\n",
        " ### **Purpose of the describe() Function in Pandas**  \n",
        "\n",
        "The describe() function in pandas provides *summary statistics* for numerical (and optionally categorical) columns in a DataFrame. It helps in *exploratory data analysis (EDA)* by giving a quick overview of the dataset’s distribution and central tendency.\n",
        "\n",
        "---\n",
        "\n",
        "### **Key Features of describe()**\n",
        "1. *Summarizes Numerical Data (Default Behavior)*  \n",
        "   - Returns count, mean, standard deviation, min, max, and quartiles (25%, 50%, 75%).  \n",
        "   - Useful for detecting *outliers, **data distribution, and **missing values*.  \n",
        "\n",
        "2. **Works on Categorical Data (include=\"object\" or include=\"all\")**  \n",
        "   - Provides count, unique values, top (most frequent) value, and frequency.  \n",
        "\n",
        "3. **Customizable for Specific Data Types (include & exclude Parameters)**  \n",
        "   - Can be tailored to describe only numerical, categorical, or all columns.  \n",
        "\n",
        "### **When to Use describe()?**  \n",
        "✔ When performing *exploratory data analysis (EDA)*.  \n",
        "✔ When checking *data distribution and summary statistics*.  \n",
        "✔ When *identifying outliers, missing values, and trends*.  \n",
        "\n",
        "\n",
        "The describe() function is an essential tool for *quickly understanding a dataset*, helping analysts and data scientists make informed decisions before further analysis."
      ],
      "metadata": {
        "id": "6W0fVNOGYPUP"
      }
    },
    {
      "cell_type": "markdown",
      "source": [
        "Q13:  Why is handling missing data important in Pandas?"
      ],
      "metadata": {
        "id": "3Q7zFGzwoktn"
      }
    },
    {
      "cell_type": "markdown",
      "source": [
        "Ans:\n",
        " ### *Why is Handling Missing Data Important in Pandas?*  \n",
        "\n",
        "Missing data can significantly impact the accuracy and reliability of data analysis and machine learning models. Properly handling missing values ensures that your dataset remains *clean, complete, and meaningful* for analysis.  \n",
        "\n",
        "---\n",
        "\n",
        "### *Key Reasons for Handling Missing Data*  \n",
        "\n",
        "1. *Prevents Errors in Computation*  \n",
        "   - Operations like mean, sum, and correlation can be affected by missing values (NaN).  \n",
        "   - Example: If NaN values exist, mean() might return incorrect results.  \n",
        "\n",
        "2. *Improves Data Integrity & Accuracy*  \n",
        "   - Missing values can lead to biased or misleading insights.  \n",
        "   - Example: An incomplete dataset might suggest false trends.  \n",
        "\n",
        "3. *Enhances Machine Learning Model Performance*  \n",
        "   - Many ML algorithms cannot handle missing values and may fail to train properly.  \n",
        "   - Filling missing values (imputation) helps maintain data consistency.  \n",
        "\n",
        "4. *Prevents Issues in Data Visualization*  \n",
        "   - Missing values can cause gaps in visualizations, leading to incorrect interpretations.  \n",
        "\n",
        "5. *Ensures Dataset Completeness*  \n",
        "   - Handling missing values allows for better decision-making on whether to keep, fill, or remove data.  \n",
        "\n",
        "---\n",
        "\n",
        "\n",
        "\n",
        "Handling missing data is *crucial* for accurate analysis and decision-making. Pandas provides efficient tools to detect, remove, or fill missing values, ensuring that data remains *clean, reliable, and ready for analysis or modeling*."
      ],
      "metadata": {
        "id": "51JVpJpyahac"
      }
    },
    {
      "cell_type": "markdown",
      "source": [
        "Q14: What are the benefits of using Plotly for data visualization?"
      ],
      "metadata": {
        "id": "nSIP0KYMolIb"
      }
    },
    {
      "cell_type": "markdown",
      "source": [
        "Ans:\n",
        " ### *Benefits of Using Plotly for Data Visualization*  \n",
        "\n",
        "Plotly is a powerful Python library for creating *interactive, high-quality* visualizations. It is widely used for *data analysis, dashboards, and web applications*.  \n",
        "\n",
        "---\n",
        "\n",
        "### *Key Advantages of Plotly*  \n",
        "\n",
        "#### *1. Interactive Visualizations*  \n",
        "- Allows *zooming, panning, hovering, and selecting* data points.  \n",
        "- Provides tooltips with additional information.  \n",
        "- Makes analysis more dynamic compared to static plots (e.g., Matplotlib).  \n",
        "\n",
        "#### *2. Easy to Use with Simple Syntax*  \n",
        "- Built-in functions simplify creating complex plots with minimal code.  \n",
        "- Works well with *pandas DataFrames*, making it easy to visualize structured data.  \n",
        "\n",
        "#### *3. Wide Range of Chart Types*  \n",
        "- Supports *scatter plots, bar charts, histograms, box plots, heatmaps, 3D plots, maps*, and more.  \n",
        "- Advanced charts like *choropleth maps, sunburst charts, and network graphs* are easy to create.  \n",
        "\n",
        "#### *4. High-Quality & Aesthetically Pleasing*  \n",
        "- Produces *beautiful, publication-ready* visualizations by default.  \n",
        "- Includes themes and styling options to enhance visuals.  \n",
        "\n",
        "#### *5. Web & Dashboard Integration*  \n",
        "- Works seamlessly with *Dash*, a Python framework for building interactive web apps.  \n",
        "- Supports *HTML, JavaScript, and Jupyter Notebook* integration.  \n",
        "\n",
        "#### *6. Supports Large Datasets*  \n",
        "- Efficiently handles *large and complex datasets* with smooth rendering.  \n",
        "- Optimized for *browser-based visualization*.  \n",
        "\n",
        "#### *7. Customization and Flexibility*  \n",
        "- Supports deep customization, including layout, colors, tooltips, and annotations.  \n",
        "- Works with *plotly.graph_objects* for fine-tuned control.  \n",
        "\n",
        "\n",
        "### *When to Use Plotly?*  \n",
        "✔ When you need *interactive* visualizations for better insights.  \n",
        "✔ When working with *large datasets* that require smooth rendering.  \n",
        "✔ When integrating charts into *web applications or dashboards*.  \n",
        "✔ When creating *advanced charts* like 3D plots and maps with minimal effort.  \n",
        "\n",
        "  \n",
        "Plotly is a *versatile, interactive, and user-friendly* library for data visualization. Its ability to handle *complex charts, large datasets, and web integrations* makes it an excellent choice for *data analysts, scientists, and developers*."
      ],
      "metadata": {
        "id": "WpQhQvplbTiE"
      }
    },
    {
      "cell_type": "markdown",
      "source": [
        "Q15: How does NumPy handle multidimensional arrays?"
      ],
      "metadata": {
        "id": "_ijRpN9TolfE"
      }
    },
    {
      "cell_type": "markdown",
      "source": [
        "Ans:\n",
        " ### **How NumPy Handles Multidimensional Arrays (ndarray)**  \n",
        "\n",
        "NumPy efficiently manages *multidimensional arrays (ndarrays)*, allowing fast computations on large datasets. These arrays support vectorized operations, indexing, reshaping, and broadcasting.  \n",
        "\n",
        "\n",
        "NumPy efficiently handles *multidimensional arrays* with fast indexing, slicing, reshaping, and broadcasting. These features make it ideal for *scientific computing, image processing, and machine learning.*"
      ],
      "metadata": {
        "id": "fKMVWyPQbsb-"
      }
    },
    {
      "cell_type": "markdown",
      "source": [
        "Q16:  What is the role of Bokeh in data visualization?"
      ],
      "metadata": {
        "id": "qdWuzgidol1x"
      }
    },
    {
      "cell_type": "markdown",
      "source": [
        "Ans:\n",
        " ### *Role of Bokeh in Data Visualization*  \n",
        "\n",
        "*Bokeh* is a powerful Python library used for *interactive, web-based* data visualizations. It allows users to create *dynamic, scalable, and visually appealing* plots that can be embedded in web applications.  \n",
        "\n",
        "---\n",
        "\n",
        "### *Key Features of Bokeh*  \n",
        "\n",
        "#### *1. Interactive Visualizations*  \n",
        "- Supports *hovering, zooming, panning, and tooltips* for better data exploration.  \n",
        "- More interactive than Matplotlib but less complex than Plotly.  \n",
        "\n",
        "#### *2. Web-Friendly (HTML & JavaScript Integration)*  \n",
        "- Generates plots in *HTML, JavaScript, and **Jupyter Notebooks*.  \n",
        "- Easily integrates with Flask, Django, and other web frameworks.  \n",
        "\n",
        "#### *3. Supports a Wide Range of Plots*  \n",
        "- Line charts, bar charts, scatter plots, heatmaps, histograms, maps, and more.  \n",
        "\n",
        "#### *4. High Performance for Large Datasets*  \n",
        "- Optimized rendering for big data visualization using WebGL.  \n",
        "\n",
        "#### *5. Customizable & Extendable*  \n",
        "- Allows adding *widgets, dashboards, and streaming data*.  \n",
        "- Can be combined with Pandas, NumPy, and other data tools.  \n",
        "\n",
        "\n",
        "\n",
        "### *When to Use Bokeh?*  \n",
        "✔ When you need *interactive* visualizations for exploratory analysis.  \n",
        "✔ When building *web applications and dashboards*.  \n",
        "✔ When handling *large datasets with optimized rendering*.  \n",
        "\n",
        "Bokeh is a *great choice for interactive, web-based* visualizations. Its ability to create *engaging, scalable, and high-performance* charts makes it ideal for *data science, business intelligence, and analytics applications*.\n",
        "\n",
        "---"
      ],
      "metadata": {
        "id": "Jv_2ot6zcpQv"
      }
    },
    {
      "cell_type": "markdown",
      "source": [
        "Q17:  Explain the difference between apply() and map() in PandasA?"
      ],
      "metadata": {
        "id": "8tZpLZOQol-6"
      }
    },
    {
      "cell_type": "markdown",
      "source": [
        "Ans:\n",
        "### **Difference Between apply() and map() in Pandas**  \n",
        "\n",
        "Both apply() and map() are used to apply functions to *Pandas Series and DataFrames*, but they work differently depending on the data structure.  \n",
        "\n",
        "---\n",
        "\n",
        "### **1. map() – Used for Element-Wise Operations on a Series**  \n",
        "- Works only on *Series* (single column).  \n",
        "- Applies a function to *each individual element* of the Series.  \n",
        "- Useful for simple transformations like *scaling, replacing values, or formatting*.  \n",
        "\n",
        "\n",
        "\n",
        "---\n",
        "\n",
        "### **2. apply() – Works on Both Series and DataFrames**  \n",
        "- Works on *both Series and DataFrames*.  \n",
        "- For a Series, it functions similarly to map().  \n",
        "- For a DataFrame, it applies a function **row-wise (axis=1) or column-wise (axis=0).  \n",
        "- Useful for complex operations involving multiple columns.  \n",
        "\n",
        "\n",
        "\n",
        "---\n",
        "\n",
        "### **Key Differences Between map() and apply()**  \n",
        "\n",
        "| Feature       | map() | apply() |\n",
        "|--------------|--------|----------|\n",
        "| Works on | Series only | Series & DataFrames |\n",
        "| Input | Function, dict, or Series | Function only |\n",
        "| Output | Transformed Series | Series or DataFrame |\n",
        "| Complexity | Simple transformations | Complex row/column-wise operations |\n",
        "\n",
        "---\n",
        "\n",
        "### *When to Use map() and apply()?*  \n",
        "✔ **Use map()** for simple *element-wise* operations on a Series.  \n",
        "✔ **Use apply()** for more complex transformations, especially in *DataFrames*.  \n",
        "\n",
        "Both map() and apply() are powerful tools in Pandas, but apply() is more versatile since it can operate on both Series and DataFrames."
      ],
      "metadata": {
        "id": "wTVaxafrSLvW"
      }
    },
    {
      "cell_type": "markdown",
      "source": [
        "Q18: What are some advanced features of NumPy?"
      ],
      "metadata": {
        "id": "XYSThIAKom30"
      }
    },
    {
      "cell_type": "markdown",
      "source": [
        "Ans:\n",
        "### *Advanced Features of NumPy*  \n",
        "\n",
        "NumPy is a powerful numerical computing library that goes beyond basic array operations. Here are some advanced features that make it highly efficient for data science, machine learning, and scientific computing:  \n",
        "\n",
        "---\n",
        "\n",
        "### *1. Broadcasting*  \n",
        "Broadcasting allows operations between arrays of different shapes without explicitly reshaping them.  \n",
        "python\n",
        "import numpy as np\n",
        "\n",
        "arr = np.array([[1, 2, 3], [4, 5, 6]])\n",
        "scalar = 10\n",
        "\n",
        "print(arr + scalar)  # Adds 10 to each element\n",
        "\n",
        "✅ *Output:*  \n",
        "\n",
        "[[11 12 13]\n",
        " [14 15 16]]\n",
        "\n",
        "✔ *Useful for* element-wise arithmetic without explicit looping.  \n",
        "\n",
        "---\n",
        "\n",
        "### *2. Vectorization (Avoiding Loops)*  \n",
        "NumPy uses *vectorized operations*, which are much faster than Python loops.  \n",
        "\n",
        "\n",
        "✔ *Speeds up numerical computations* significantly.  \n",
        "\n",
        "---\n",
        "\n",
        "### *3. Advanced Indexing & Boolean Masking*  \n",
        "NumPy allows *fancy indexing*, slicing, and conditional filtering.  \n",
        "\n",
        "  \n",
        "✔ *Useful for* fast data filtering without loops.  \n",
        "\n",
        "---\n",
        "\n",
        "### **4. Memory Efficiency with dtype Control**  \n",
        "NumPy allows precise control over data types (int8, float16, uint32, etc.), reducing memory usage.  \n",
        "\n",
        "\n",
        "✔ *Helps optimize* large datasets.  \n",
        "\n",
        "---\n",
        "\n",
        "### **5. NumPy Linear Algebra (numpy.linalg)**  \n",
        "NumPy provides fast *matrix operations* like inverse, determinant, and eigenvalues.  \n",
        "\n",
        "✔ *Essential for* machine learning, physics, and engineering.  \n",
        "\n",
        "---\n",
        "\n",
        "### **6. Random Number Generation (numpy.random)**  \n",
        "NumPy provides efficient random sampling and distributions.  \n",
        "\n",
        "✔ *Useful for* simulations, Monte Carlo methods, and deep learning.  \n",
        "\n",
        "---\n",
        "\n",
        "### **7. Parallel Computing with numexpr and multiprocessing**  \n",
        "NumPy can leverage *multiple CPU cores* for faster computations.  \n",
        "\n",
        "✔ *Speeds up* large-scale data processing.  \n",
        "\n",
        "\n",
        "NumPy’s *advanced features* like *broadcasting, vectorization, random sampling, linear algebra, and parallel computing* make it a *high-performance* tool for numerical analysis and machine learning."
      ],
      "metadata": {
        "id": "qOUzh-f8TG2G"
      }
    },
    {
      "cell_type": "markdown",
      "source": [
        "Q19: How does Pandas simplify time series analysis?"
      ],
      "metadata": {
        "id": "MeMkcnImooE9"
      }
    },
    {
      "cell_type": "markdown",
      "source": [
        "Ans:\n",
        " ### *How Pandas Simplifies Time Series Analysis*  \n",
        "\n",
        "Pandas provides powerful tools for handling *time series data*, making it easy to process, analyze, and visualize time-dependent information.  \n",
        "\n",
        "---\n",
        "\n",
        "## **1. Date & Time Handling (DatetimeIndex)**  \n",
        "Pandas converts strings or numbers into *datetime objects*, allowing easy manipulation.  \n",
        "\n",
        "✔ *Simplifies* working with dates, timestamps, and time zones.  \n",
        "\n",
        "---\n",
        "\n",
        "## *2. Creating Time Series Data*  \n",
        "\n",
        "\n",
        "✔ *Easily create* daily, hourly, or even second-based time series.  \n",
        "\n",
        "---\n",
        "\n",
        "## *3. Resampling (Changing Time Intervals)*  \n",
        "Resampling aggregates data over a different time interval, such as *converting daily data to monthly*.  \n",
        "\n",
        "# Convert daily data to weekly average\n",
        "\n",
        "✔ *Useful for* downsampling (reducing granularity) and upsampling (adding more data points).  \n",
        "\n",
        "---\n",
        "\n",
        "## *4. Time-Based Indexing & Slicing*  \n",
        "Pandas allows efficient slicing of time series data.  \n",
        "\n",
        "✔ *Faster than looping* through date values manually.  \n",
        "\n",
        "---\n",
        "\n",
        "## *5. Handling Missing Time Series Data*  \n",
        "Missing dates can be filled using different methods.  \n",
        "\n",
        "\n",
        "✔ *Prevents gaps* in time series data.  \n",
        "\n",
        "---\n",
        "\n",
        "## *6. Rolling & Moving Averages (Smoothing Data)*  \n",
        "Rolling calculations help analyze trends.  \n",
        "\n",
        "\n",
        "✔ *Essential for* trend detection and anomaly detection.  \n",
        "\n",
        "---\n",
        "\n",
        "## *7. Time Zone Handling*  \n",
        "Pandas supports *timezone conversion* for global analysis.  \n",
        "\n",
        "\n",
        "✔ *Solves timezone inconsistencies* in time series data.  \n",
        "\n",
        "\n",
        "Pandas simplifies *time series analysis* with *datetime handling, resampling, missing data management, moving averages, and time zone support, making it ideal for **finance, IoT, weather forecasting, and trend analysis*."
      ],
      "metadata": {
        "id": "jij5_SPuUOJr"
      }
    },
    {
      "cell_type": "markdown",
      "source": [
        "Q20: What is the role of a pivot table in Pandas?"
      ],
      "metadata": {
        "id": "gREBRaa0oorn"
      }
    },
    {
      "cell_type": "markdown",
      "source": [
        "Ans:\n",
        " ### *Role of Pivot Tables in Pandas*  \n",
        "\n",
        "A *pivot table* in Pandas is a powerful tool for *summarizing, aggregating, and reshaping* data. It is commonly used for *data analysis and reporting*, similar to pivot tables in Excel.  \n",
        "\n",
        "---\n",
        "\n",
        "## *1. Why Use Pivot Tables?*  \n",
        "✔ *Summarize large datasets efficiently*  \n",
        "✔ *Aggregate data based on multiple categories*  \n",
        "✔ *Perform custom calculations (sum, mean, count, etc.)*  \n",
        "✔ *Reshape data for better visualization*  \n",
        "\n",
        "\n",
        "\n",
        "## **2. Key Parameters in pivot_table()**\n",
        "| Parameter   | Description |\n",
        "|-------------|------------|\n",
        "| values    | Column to aggregate (e.g., \"Sales\") |\n",
        "| index     | Rows (e.g., \"Date\") |\n",
        "| columns   | Column categories (e.g., \"Category\") |\n",
        "| aggfunc   | Aggregation function (sum, mean, count, etc.) |\n",
        "| fill_value | Replaces NaN with a default value |\n",
        "\n",
        "---\n",
        "\n",
        "\n",
        "---\n",
        "\n",
        "Pivot tables in Pandas simplify *data summarization, grouping, and analysis* by allowing flexible *aggregation* based on categories. They are essential for *business intelligence, reporting, and trend analysis.*"
      ],
      "metadata": {
        "id": "ThJ5C9uPVFWj"
      }
    },
    {
      "cell_type": "markdown",
      "source": [
        "Q21: Why is NumPy’s array slicing faster than Python’s list slicing?"
      ],
      "metadata": {
        "id": "LyT_OrQmopQ0"
      }
    },
    {
      "cell_type": "markdown",
      "source": [
        "Ans:\n",
        "### *Why Is NumPy Array Slicing Faster Than Python List Slicing?*  \n",
        "\n",
        "NumPy array slicing is significantly *faster* than Python list slicing due to *memory efficiency, vectorized operations, and optimized implementations*. Here’s why:  \n",
        "\n",
        "---\n",
        "\n",
        "### *1. NumPy Uses Contiguous Memory (Better Cache Performance)*  \n",
        "- NumPy arrays are stored in *contiguous memory blocks*, making access and slicing much faster.  \n",
        "- Python lists store elements as *separate objects* with pointers, increasing overhead.  \n",
        "\n",
        "✅ *Example:*  \n",
        "python\n",
        "import numpy as np\n",
        "import time\n",
        "\n",
        "arr = np.arange(10**6)  # NumPy array\n",
        "lst = list(range(10**6))  # Python list\n",
        "\n",
        "# NumPy slicing\n",
        "start = time.time()\n",
        "slice_arr = arr[:500000]  # NumPy slicing\n",
        "end = time.time()\n",
        "print(\"NumPy slicing time:\", end - start)\n",
        "\n",
        "# Python list slicing\n",
        "start = time.time()\n",
        "slice_lst = lst[:500000]  # List slicing\n",
        "end = time.time()\n",
        "print(\"Python list slicing time:\", end - start)\n",
        "\n",
        "✅ *Output (approximate results):*  \n",
        "\n",
        "NumPy slicing time: 0.00002 seconds\n",
        "Python list slicing time: 0.003 seconds\n",
        "\n",
        "✔ *NumPy is ~100x faster!*  \n",
        "\n",
        "---\n",
        "\n",
        "### *2. NumPy Uses Views, Not Copies (Memory Efficiency)*  \n",
        "- *NumPy slicing returns a \"view\" of the original array, not a new object.*  \n",
        "- *Python lists create a new copy*, consuming more memory and time.  \n",
        "\n",
        "\n",
        "---\n",
        "\n",
        "### *3. NumPy Uses Optimized C Implementations*  \n",
        "- NumPy is built in *C*, with low-level optimizations.  \n",
        "- Python lists rely on dynamic typing and extra overhead.  \n",
        "\n",
        "---\n",
        "\n",
        "### *4. NumPy Supports Vectorized Operations (Avoids Python Loops)*  \n",
        "NumPy can *apply operations on entire slices* without explicit loops.  \n",
        "\n",
        "✔ *Python lists require loops, making them slower.*  \n",
        "\n",
        "✔ *NumPy slicing is faster because it uses memory views, contiguous storage, and optimized C operations.*  \n",
        "✔ *Python lists are slower due to object overhead and memory inefficiency.*  \n",
        "✔ *For large-scale data, NumPy is the best choice!*"
      ],
      "metadata": {
        "id": "Ziz99L69V-xX"
      }
    },
    {
      "cell_type": "markdown",
      "source": [
        "Q22: What are some common use cases for Seaborn?"
      ],
      "metadata": {
        "id": "wrHqpOS3oqAY"
      }
    },
    {
      "cell_type": "markdown",
      "source": [
        "Ans:\n",
        " ### *Common Use Cases for Seaborn*  \n",
        "\n",
        "Seaborn is a *statistical data visualization* library built on Matplotlib. It simplifies *data exploration, trend analysis, and pattern detection* in datasets. Here are its most common use cases:  \n",
        "\n",
        "---\n",
        "\n",
        "### *1. Data Distribution Analysis*  \n",
        "Seaborn helps visualize how data is distributed.  \n",
        "\n",
        "✅ *Use Cases:*  \n",
        "✔ Checking if data follows a normal distribution.  \n",
        "✔ Identifying skewness or outliers.  \n",
        "\n",
        "\n",
        "---\n",
        "\n",
        "### *2. Comparing Categories (Bar & Count Plots)*  \n",
        "Seaborn makes it easy to compare categories using *bar plots and count plots*.  \n",
        "\n",
        "✅ *Use Cases:*  \n",
        "✔ Analyzing sales by product category.  \n",
        "✔ Counting occurrences of categorical variables.  \n",
        "\n",
        "\n",
        "---\n",
        "\n",
        "### *3. Correlation & Relationships (Scatter & Pair Plots)*  \n",
        "Seaborn helps explore relationships between multiple variables.  \n",
        "\n",
        "✅ *Use Cases:*  \n",
        "✔ Identifying correlations between variables.  \n",
        "✔ Detecting patterns (e.g., does tip amount increase with bill size?).  \n",
        "\n",
        "\n",
        "---\n",
        "\n",
        "### *4. Heatmaps for Correlation Analysis*  \n",
        "Heatmaps help visualize the strength of relationships between variables.  \n",
        "\n",
        "✅ *Use Cases:*  \n",
        "✔ Understanding feature correlations in machine learning.  \n",
        "✔ Identifying highly correlated variables to avoid redundancy.  \n",
        "\n",
        "\n",
        "---\n",
        "\n",
        "### *5. Box Plots & Violin Plots for Outlier Detection*  \n",
        "Box plots and violin plots help detect outliers and understand data distribution.  \n",
        "\n",
        "✅ *Use Cases:*  \n",
        "✔ Identifying salary outliers in employee datasets.  \n",
        "✔ Comparing distributions across multiple categories.  \n",
        "\n",
        "\n",
        "---\n",
        "\n",
        "### *6. Time Series Analysis (Line Plots)*  \n",
        "Seaborn can visualize trends over time.  \n",
        "\n",
        "✅ *Use Cases:*  \n",
        "✔ Stock market trend analysis.  \n",
        "✔ Analyzing seasonal sales patterns.  \n",
        "\n",
        "Seaborn is widely used for:  \n",
        "✔ *Data distribution analysis* (histograms, KDE plots).  \n",
        "✔ *Comparing categories* (bar plots, count plots).  \n",
        "✔ *Exploring relationships* (scatter plots, pair plots).  \n",
        "✔ *Correlation analysis* (heatmaps).  \n",
        "✔ *Outlier detection* (box plots, violin plots).  \n",
        "✔ *Time series analysis* (line plots).  \n",
        "\n",
        "*It makes data visualization easier, more intuitive, and aesthetically appealing!*"
      ],
      "metadata": {
        "id": "-3Kq8fNaWqrV"
      }
    },
    {
      "cell_type": "markdown",
      "source": [
        "##**PRACTICAL QEUSTIONS**"
      ],
      "metadata": {
        "id": "-DkMasyPZcGh"
      }
    },
    {
      "cell_type": "markdown",
      "source": [
        "Q1: How do you create a 2D NumPy array and calculate the sum of each row?"
      ],
      "metadata": {
        "id": "H8X9PSlZZnI0"
      }
    },
    {
      "cell_type": "code",
      "source": [
        "import numpy as np\n",
        "\n",
        "# Create a 2D NumPy array\n",
        "arr = np.array([[1, 2, 3],\n",
        "                [4, 5, 6],\n",
        "                [7, 8, 9]])\n",
        "\n",
        "# Calculate the sum of each row\n",
        "row_sums = np.sum(arr, axis=1)\n",
        "\n",
        "print(\"2D Array:\")\n",
        "print(arr)\n",
        "print(\"Sum of each row:\", row_sums)"
      ],
      "metadata": {
        "colab": {
          "base_uri": "https://localhost:8080/"
        },
        "id": "qPPQdhyJZoWz",
        "outputId": "79ef32b4-0f37-4822-bfe5-92c06edbf7d8"
      },
      "execution_count": 1,
      "outputs": [
        {
          "output_type": "stream",
          "name": "stdout",
          "text": [
            "2D Array:\n",
            "[[1 2 3]\n",
            " [4 5 6]\n",
            " [7 8 9]]\n",
            "Sum of each row: [ 6 15 24]\n"
          ]
        }
      ]
    },
    {
      "cell_type": "markdown",
      "source": [
        "Q2:  Write a Pandas script to find the mean of a specific column in a DataFrame?\n"
      ],
      "metadata": {
        "id": "IEPM__3jZpBZ"
      }
    },
    {
      "cell_type": "code",
      "source": [
        "import pandas as pd\n",
        "\n",
        "# Create a sample DataFrame\n",
        "data = {\n",
        "    'Name': ['Alice', 'Bob', 'Charlie', 'David'],\n",
        "    'Age': [25, 30, 35, 40],\n",
        "    'Salary': [50000, 60000, 70000, 80000]\n",
        "}\n",
        "\n",
        "df = pd.DataFrame(data)\n",
        "\n",
        "# Calculate the mean of a specific column (e.g., 'Salary')\n",
        "mean_salary = df['Salary'].mean()\n",
        "\n",
        "print(\"Mean Salary:\", mean_salary)"
      ],
      "metadata": {
        "colab": {
          "base_uri": "https://localhost:8080/"
        },
        "id": "5Hk4X7XXZqPg",
        "outputId": "f0efe439-4fe9-4939-85ca-e86d7ba1f8b4"
      },
      "execution_count": 2,
      "outputs": [
        {
          "output_type": "stream",
          "name": "stdout",
          "text": [
            "Mean Salary: 65000.0\n"
          ]
        }
      ]
    },
    {
      "cell_type": "markdown",
      "source": [
        "Q3:  Create a scatter plot using Matplotlib?"
      ],
      "metadata": {
        "id": "9zNwgoHIZq30"
      }
    },
    {
      "cell_type": "code",
      "source": [
        "import matplotlib.pyplot as plt\n",
        "\n",
        "# Sample data\n",
        "x = [10, 20, 30, 40, 50]\n",
        "y = [5, 15, 25, 35, 45]\n",
        "\n",
        "# Create a scatter plot\n",
        "plt.scatter(x, y, color='blue', marker='o', label='Data Points')\n",
        "\n",
        "# Add labels and title\n",
        "plt.xlabel('X-axis')\n",
        "plt.ylabel('Y-axis')\n",
        "plt.title('Scatter Plot Example')\n",
        "\n",
        "# Show legend\n",
        "plt.legend()\n",
        "\n",
        "# Display the plot\n",
        "plt.show()"
      ],
      "metadata": {
        "colab": {
          "base_uri": "https://localhost:8080/",
          "height": 472
        },
        "id": "XqnwCE0PZr-R",
        "outputId": "265ba8cb-57c8-4c4d-8f1a-f58dfdb46991"
      },
      "execution_count": 3,
      "outputs": [
        {
          "output_type": "display_data",
          "data": {
            "text/plain": [
              "<Figure size 640x480 with 1 Axes>"
            ],
            "image/png": "[encoded data removed]"
          },
          "metadata": {}
        }
      ]
    },
    {
      "cell_type": "markdown",
      "source": [
        "Q4: How do you calculate the correlation matrix using Seaborn and visualize it with a heatmap?\n"
      ],
      "metadata": {
        "id": "fRPon3eMZszQ"
      }
    },
    {
      "cell_type": "code",
      "source": [
        "import pandas as pd\n",
        "import seaborn as sns\n",
        "import matplotlib.pyplot as plt\n",
        "\n",
        "# Sample DataFrame\n",
        "data = {\n",
        "    'A': [1, 2, 3, 4, 5],\n",
        "    'B': [2, 3, 4, 5, 6],\n",
        "    'C': [5, 4, 3, 2, 1],\n",
        "    'D': [1, 3, 5, 7, 9]\n",
        "}\n",
        "\n",
        "df = pd.DataFrame(data)\n",
        "\n",
        "# Compute the correlation matrix\n",
        "corr_matrix = df.corr()\n",
        "\n",
        "# Create a heatmap using seaborn\n",
        "plt.figure(figsize=(6, 4))\n",
        "sns.heatmap(corr_matrix, annot=True, cmap='coolwarm', fmt=\".2f\", linewidths=0.5)\n",
        "\n",
        "# Add a title\n",
        "plt.title(\"Correlation Matrix Heatmap\")\n",
        "\n",
        "# Show the plot\n",
        "plt.show()"
      ],
      "metadata": {
        "colab": {
          "base_uri": "https://localhost:8080/",
          "height": 391
        },
        "id": "sc3sI8RAZtmn",
        "outputId": "8803ac9c-2107-47bd-ba3a-ccb45f5cc853"
      },
      "execution_count": 4,
      "outputs": [
        {
          "output_type": "display_data",
          "data": {
            "text/plain": [
              "<Figure size 600x400 with 2 Axes>"
            ],
            "image/png": "[encoded data removed]"
          },
          "metadata": {}
        }
      ]
    },
    {
      "cell_type": "markdown",
      "source": [
        "Q5: Generate a bar plot using Plotly?"
      ],
      "metadata": {
        "id": "EXcozSjfZuL1"
      }
    },
    {
      "cell_type": "code",
      "source": [
        "import plotly.express as px\n",
        "import pandas as pd\n",
        "\n",
        "# Sample DataFrame\n",
        "data = {\n",
        "    'Category': ['A', 'B', 'C', 'D'],\n",
        "    'Values': [10, 20, 15, 25]\n",
        "}\n",
        "\n",
        "df = pd.DataFrame(data)\n",
        "\n",
        "# Create a bar plot\n",
        "fig = px.bar(df, x='Category', y='Values', title='Bar Plot Example', color='Category')\n",
        "\n",
        "# Show the plot\n",
        "fig.show()"
      ],
      "metadata": {
        "colab": {
          "base_uri": "https://localhost:8080/",
          "height": 542
        },
        "id": "a9U_iGYRZu6T",
        "outputId": "33d984c2-95c2-4cce-86d3-779470953e7f"
      },
      "execution_count": 5,
      "outputs": [
        {
          "output_type": "display_data",
          "data": {
            "text/html": [
              "<html>\n",
              "<head><meta charset=\"utf-8\" /></head>\n",
              "<body>\n",
              "    <div>            <script src=\"https://cdnjs.cloudflare.com/ajax/libs/mathjax/2.7.5/MathJax.js?config=TeX-AMS-MML_SVG\"></script><script type=\"text/javascript\">if (window.MathJax && window.MathJax.Hub && window.MathJax.Hub.Config) {window.MathJax.Hub.Config({SVG: {font: \"STIX-Web\"}});}</script>                <script type=\"text/javascript\">window.PlotlyConfig = {MathJaxConfig: 'local'};</script>\n",
              "        <script charset=\"utf-8\" src=\"https://cdn.plot.ly/plotly-2.35.2.min.js\"></script>                <div id=\"f5c186f7-9fe4-454e-867c-332b1e4a3340\" class=\"plotly-graph-div\" style=\"height:525px; width:100%;\"></div>            <script type=\"text/javascript\">                                    window.PLOTLYENV=window.PLOTLYENV || {};                                    if (document.getElementById(\"f5c186f7-9fe4-454e-867c-332b1e4a3340\")) {                    Plotly.newPlot(                        \"f5c186f7-9fe4-454e-867c-332b1e4a3340\",                        [{\"alignmentgroup\":\"True\",\"hovertemplate\":\"Category=%{x}\\u003cbr\\u003eValues=%{y}\\u003cextra\\u003e\\u003c\\u002fextra\\u003e\",\"legendgroup\":\"A\",\"marker\":{\"color\":\"#636efa\",\"pattern\":{\"shape\":\"\"}},\"name\":\"A\",\"offsetgroup\":\"A\",\"orientation\":\"v\",\"showlegend\":true,\"textposition\":\"auto\",\"x\":[\"A\"],\"xaxis\":\"x\",\"y\":[10],\"yaxis\":\"y\",\"type\":\"bar\"},{\"alignmentgroup\":\"True\",\"hovertemplate\":\"Category=%{x}\\u003cbr\\u003eValues=%{y}\\u003cextra\\u003e\\u003c\\u002fextra\\u003e\",\"legendgroup\":\"B\",\"marker\":{\"color\":\"#EF553B\",\"pattern\":{\"shape\":\"\"}},\"name\":\"B\",\"offsetgroup\":\"B\",\"orientation\":\"v\",\"showlegend\":true,\"textposition\":\"auto\",\"x\":[\"B\"],\"xaxis\":\"x\",\"y\":[20],\"yaxis\":\"y\",\"type\":\"bar\"},{\"alignmentgroup\":\"True\",\"hovertemplate\":\"Category=%{x}\\u003cbr\\u003eValues=%{y}\\u003cextra\\u003e\\u003c\\u002fextra\\u003e\",\"legendgroup\":\"C\",\"marker\":{\"color\":\"#00cc96\",\"pattern\":{\"shape\":\"\"}},\"name\":\"C\",\"offsetgroup\":\"C\",\"orientation\":\"v\",\"showlegend\":true,\"textposition\":\"auto\",\"x\":[\"C\"],\"xaxis\":\"x\",\"y\":[15],\"yaxis\":\"y\",\"type\":\"bar\"},{\"alignmentgroup\":\"True\",\"hovertemplate\":\"Category=%{x}\\u003cbr\\u003eValues=%{y}\\u003cextra\\u003e\\u003c\\u002fextra\\u003e\",\"legendgroup\":\"D\",\"marker\":{\"color\":\"#ab63fa\",\"pattern\":{\"shape\":\"\"}},\"name\":\"D\",\"offsetgroup\":\"D\",\"orientation\":\"v\",\"showlegend\":true,\"textposition\":\"auto\",\"x\":[\"D\"],\"xaxis\":\"x\",\"y\":[25],\"yaxis\":\"y\",\"type\":\"bar\"}],                        {\"template\":{\"data\":{\"histogram2dcontour\":[{\"type\":\"histogram2dcontour\",\"colorbar\":{\"outlinewidth\":0,\"ticks\":\"\"},\"colorscale\":[[0.0,\"#0d0887\"],[0.1111111111111111,\"#46039f\"],[0.2222222222222222,\"#7201a8\"],[0.3333333333333333,\"#9c179e\"],[0.4444444444444444,\"#bd3786\"],[0.5555555555555556,\"#d8576b\"],[0.6666666666666666,\"#ed7953\"],[0.7777777777777778,\"#fb9f3a\"],[0.8888888888888888,\"#fdca26\"],[1.0,\"#f0f921\"]]}],\"choropleth\":[{\"type\":\"choropleth\",\"colorbar\":{\"outlinewidth\":0,\"ticks\":\"\"}}],\"histogram2d\":[{\"type\":\"histogram2d\",\"colorbar\":{\"outlinewidth\":0,\"ticks\":\"\"},\"colorscale\":[[0.0,\"#0d0887\"],[0.1111111111111111,\"#46039f\"],[0.2222222222222222,\"#7201a8\"],[0.3333333333333333,\"#9c179e\"],[0.4444444444444444,\"#bd3786\"],[0.5555555555555556,\"#d8576b\"],[0.6666666666666666,\"#ed7953\"],[0.7777777777777778,\"#fb9f3a\"],[0.8888888888888888,\"#fdca26\"],[1.0,\"#f0f921\"]]}],\"heatmap\":[{\"type\":\"heatmap\",\"colorbar\":{\"outlinewidth\":0,\"ticks\":\"\"},\"colorscale\":[[0.0,\"#0d0887\"],[0.1111111111111111,\"#46039f\"],[0.2222222222222222,\"#7201a8\"],[0.3333333333333333,\"#9c179e\"],[0.4444444444444444,\"#bd3786\"],[0.5555555555555556,\"#d8576b\"],[0.6666666666666666,\"#ed7953\"],[0.7777777777777778,\"#fb9f3a\"],[0.8888888888888888,\"#fdca26\"],[1.0,\"#f0f921\"]]}],\"heatmapgl\":[{\"type\":\"heatmapgl\",\"colorbar\":{\"outlinewidth\":0,\"ticks\":\"\"},\"colorscale\":[[0.0,\"#0d0887\"],[0.1111111111111111,\"#46039f\"],[0.2222222222222222,\"#7201a8\"],[0.3333333333333333,\"#9c179e\"],[0.4444444444444444,\"#bd3786\"],[0.5555555555555556,\"#d8576b\"],[0.6666666666666666,\"#ed7953\"],[0.7777777777777778,\"#fb9f3a\"],[0.8888888888888888,\"#fdca26\"],[1.0,\"#f0f921\"]]}],\"contourcarpet\":[{\"type\":\"contourcarpet\",\"colorbar\":{\"outlinewidth\":0,\"ticks\":\"\"}}],\"contour\":[{\"type\":\"contour\",\"colorbar\":{\"outlinewidth\":0,\"ticks\":\"\"},\"colorscale\":[[0.0,\"#0d0887\"],[0.1111111111111111,\"#46039f\"],[0.2222222222222222,\"#7201a8\"],[0.3333333333333333,\"#9c179e\"],[0.4444444444444444,\"#bd3786\"],[0.5555555555555556,\"#d8576b\"],[0.6666666666666666,\"#ed7953\"],[0.7777777777777778,\"#fb9f3a\"],[0.8888888888888888,\"#fdca26\"],[1.0,\"#f0f921\"]]}],\"surface\":[{\"type\":\"surface\",\"colorbar\":{\"outlinewidth\":0,\"ticks\":\"\"},\"colorscale\":[[0.0,\"#0d0887\"],[0.1111111111111111,\"#46039f\"],[0.2222222222222222,\"#7201a8\"],[0.3333333333333333,\"#9c179e\"],[0.4444444444444444,\"#bd3786\"],[0.5555555555555556,\"#d8576b\"],[0.6666666666666666,\"#ed7953\"],[0.7777777777777778,\"#fb9f3a\"],[0.8888888888888888,\"#fdca26\"],[1.0,\"#f0f921\"]]}],\"mesh3d\":[{\"type\":\"mesh3d\",\"colorbar\":{\"outlinewidth\":0,\"ticks\":\"\"}}],\"scatter\":[{\"fillpattern\":{\"fillmode\":\"overlay\",\"size\":10,\"solidity\":0.2},\"type\":\"scatter\"}],\"parcoords\":[{\"type\":\"parcoords\",\"line\":{\"colorbar\":{\"outlinewidth\":0,\"ticks\":\"\"}}}],\"scatterpolargl\":[{\"type\":\"scatterpolargl\",\"marker\":{\"colorbar\":{\"outlinewidth\":0,\"ticks\":\"\"}}}],\"bar\":[{\"error_x\":{\"color\":\"#2a3f5f\"},\"error_y\":{\"color\":\"#2a3f5f\"},\"marker\":{\"line\":{\"color\":\"#E5ECF6\",\"width\":0.5},\"pattern\":{\"fillmode\":\"overlay\",\"size\":10,\"solidity\":0.2}},\"type\":\"bar\"}],\"scattergeo\":[{\"type\":\"scattergeo\",\"marker\":{\"colorbar\":{\"outlinewidth\":0,\"ticks\":\"\"}}}],\"scatterpolar\":[{\"type\":\"scatterpolar\",\"marker\":{\"colorbar\":{\"outlinewidth\":0,\"ticks\":\"\"}}}],\"histogram\":[{\"marker\":{\"pattern\":{\"fillmode\":\"overlay\",\"size\":10,\"solidity\":0.2}},\"type\":\"histogram\"}],\"scattergl\":[{\"type\":\"scattergl\",\"marker\":{\"colorbar\":{\"outlinewidth\":0,\"ticks\":\"\"}}}],\"scatter3d\":[{\"type\":\"scatter3d\",\"line\":{\"colorbar\":{\"outlinewidth\":0,\"ticks\":\"\"}},\"marker\":{\"colorbar\":{\"outlinewidth\":0,\"ticks\":\"\"}}}],\"scattermapbox\":[{\"type\":\"scattermapbox\",\"marker\":{\"colorbar\":{\"outlinewidth\":0,\"ticks\":\"\"}}}],\"scatterternary\":[{\"type\":\"scatterternary\",\"marker\":{\"colorbar\":{\"outlinewidth\":0,\"ticks\":\"\"}}}],\"scattercarpet\":[{\"type\":\"scattercarpet\",\"marker\":{\"colorbar\":{\"outlinewidth\":0,\"ticks\":\"\"}}}],\"carpet\":[{\"aaxis\":{\"endlinecolor\":\"#2a3f5f\",\"gridcolor\":\"white\",\"linecolor\":\"white\",\"minorgridcolor\":\"white\",\"startlinecolor\":\"#2a3f5f\"},\"baxis\":{\"endlinecolor\":\"#2a3f5f\",\"gridcolor\":\"white\",\"linecolor\":\"white\",\"minorgridcolor\":\"white\",\"startlinecolor\":\"#2a3f5f\"},\"type\":\"carpet\"}],\"table\":[{\"cells\":{\"fill\":{\"color\":\"#EBF0F8\"},\"line\":{\"color\":\"white\"}},\"header\":{\"fill\":{\"color\":\"#C8D4E3\"},\"line\":{\"color\":\"white\"}},\"type\":\"table\"}],\"barpolar\":[{\"marker\":{\"line\":{\"color\":\"#E5ECF6\",\"width\":0.5},\"pattern\":{\"fillmode\":\"overlay\",\"size\":10,\"solidity\":0.2}},\"type\":\"barpolar\"}],\"pie\":[{\"automargin\":true,\"type\":\"pie\"}]},\"layout\":{\"autotypenumbers\":\"strict\",\"colorway\":[\"#636efa\",\"#EF553B\",\"#00cc96\",\"#ab63fa\",\"#FFA15A\",\"#19d3f3\",\"#FF6692\",\"#B6E880\",\"#FF97FF\",\"#FECB52\"],\"font\":{\"color\":\"#2a3f5f\"},\"hovermode\":\"closest\",\"hoverlabel\":{\"align\":\"left\"},\"paper_bgcolor\":\"white\",\"plot_bgcolor\":\"#E5ECF6\",\"polar\":{\"bgcolor\":\"#E5ECF6\",\"angularaxis\":{\"gridcolor\":\"white\",\"linecolor\":\"white\",\"ticks\":\"\"},\"radialaxis\":{\"gridcolor\":\"white\",\"linecolor\":\"white\",\"ticks\":\"\"}},\"ternary\":{\"bgcolor\":\"#E5ECF6\",\"aaxis\":{\"gridcolor\":\"white\",\"linecolor\":\"white\",\"ticks\":\"\"},\"baxis\":{\"gridcolor\":\"white\",\"linecolor\":\"white\",\"ticks\":\"\"},\"caxis\":{\"gridcolor\":\"white\",\"linecolor\":\"white\",\"ticks\":\"\"}},\"coloraxis\":{\"colorbar\":{\"outlinewidth\":0,\"ticks\":\"\"}},\"colorscale\":{\"sequential\":[[0.0,\"#0d0887\"],[0.1111111111111111,\"#46039f\"],[0.2222222222222222,\"#7201a8\"],[0.3333333333333333,\"#9c179e\"],[0.4444444444444444,\"#bd3786\"],[0.5555555555555556,\"#d8576b\"],[0.6666666666666666,\"#ed7953\"],[0.7777777777777778,\"#fb9f3a\"],[0.8888888888888888,\"#fdca26\"],[1.0,\"#f0f921\"]],\"sequentialminus\":[[0.0,\"#0d0887\"],[0.1111111111111111,\"#46039f\"],[0.2222222222222222,\"#7201a8\"],[0.3333333333333333,\"#9c179e\"],[0.4444444444444444,\"#bd3786\"],[0.5555555555555556,\"#d8576b\"],[0.6666666666666666,\"#ed7953\"],[0.7777777777777778,\"#fb9f3a\"],[0.8888888888888888,\"#fdca26\"],[1.0,\"#f0f921\"]],\"diverging\":[[0,\"#8e0152\"],[0.1,\"#c51b7d\"],[0.2,\"#de77ae\"],[0.3,\"#f1b6da\"],[0.4,\"#fde0ef\"],[0.5,\"#f7f7f7\"],[0.6,\"#e6f5d0\"],[0.7,\"#b8e186\"],[0.8,\"#7fbc41\"],[0.9,\"#4d9221\"],[1,\"#276419\"]]},\"xaxis\":{\"gridcolor\":\"white\",\"linecolor\":\"white\",\"ticks\":\"\",\"title\":{\"standoff\":15},\"zerolinecolor\":\"white\",\"automargin\":true,\"zerolinewidth\":2},\"yaxis\":{\"gridcolor\":\"white\",\"linecolor\":\"white\",\"ticks\":\"\",\"title\":{\"standoff\":15},\"zerolinecolor\":\"white\",\"automargin\":true,\"zerolinewidth\":2},\"scene\":{\"xaxis\":{\"backgroundcolor\":\"#E5ECF6\",\"gridcolor\":\"white\",\"linecolor\":\"white\",\"showbackground\":true,\"ticks\":\"\",\"zerolinecolor\":\"white\",\"gridwidth\":2},\"yaxis\":{\"backgroundcolor\":\"#E5ECF6\",\"gridcolor\":\"white\",\"linecolor\":\"white\",\"showbackground\":true,\"ticks\":\"\",\"zerolinecolor\":\"white\",\"gridwidth\":2},\"zaxis\":{\"backgroundcolor\":\"#E5ECF6\",\"gridcolor\":\"white\",\"linecolor\":\"white\",\"showbackground\":true,\"ticks\":\"\",\"zerolinecolor\":\"white\",\"gridwidth\":2}},\"shapedefaults\":{\"line\":{\"color\":\"#2a3f5f\"}},\"annotationdefaults\":{\"arrowcolor\":\"#2a3f5f\",\"arrowhead\":0,\"arrowwidth\":1},\"geo\":{\"bgcolor\":\"white\",\"landcolor\":\"#E5ECF6\",\"subunitcolor\":\"white\",\"showland\":true,\"showlakes\":true,\"lakecolor\":\"white\"},\"title\":{\"x\":0.05},\"mapbox\":{\"style\":\"light\"}}},\"xaxis\":{\"anchor\":\"y\",\"domain\":[0.0,1.0],\"title\":{\"text\":\"Category\"},\"categoryorder\":\"array\",\"categoryarray\":[\"A\",\"B\",\"C\",\"D\"]},\"yaxis\":{\"anchor\":\"x\",\"domain\":[0.0,1.0],\"title\":{\"text\":\"Values\"}},\"legend\":{\"title\":{\"text\":\"Category\"},\"tracegroupgap\":0},\"title\":{\"text\":\"Bar Plot Example\"},\"barmode\":\"relative\"},                        {\"responsive\": true}                    ).then(function(){\n",
              "                            \n",
              "var gd = document.getElementById('f5c186f7-9fe4-454e-867c-332b1e4a3340');\n",
              "var x = new MutationObserver(function (mutations, observer) {{\n",
              "        var display = window.getComputedStyle(gd).display;\n",
              "        if (!display || display === 'none') {{\n",
              "            console.log([gd, 'removed!']);\n",
              "            Plotly.purge(gd);\n",
              "            observer.disconnect();\n",
              "        }}\n",
              "}});\n",
              "\n",
              "// Listen for the removal of the full notebook cells\n",
              "var notebookContainer = gd.closest('#notebook-container');\n",
              "if (notebookContainer) {{\n",
              "    x.observe(notebookContainer, {childList: true});\n",
              "}}\n",
              "\n",
              "// Listen for the clearing of the current output cell\n",
              "var outputEl = gd.closest('.output');\n",
              "if (outputEl) {{\n",
              "    x.observe(outputEl, {childList: true});\n",
              "}}\n",
              "\n",
              "                        })                };                            </script>        </div>\n",
              "</body>\n",
              "</html>"
            ]
          },
          "metadata": {}
        }
      ]
    },
    {
      "cell_type": "markdown",
      "source": [
        "Q6:  Create a DataFrame and add a new column based on an existing column?"
      ],
      "metadata": {
        "id": "eebsBlY1ZvxM"
      }
    },
    {
      "cell_type": "code",
      "source": [
        "import pandas as pd\n",
        "\n",
        "# Create a sample DataFrame\n",
        "data = {\n",
        "    'Name': ['Alice', 'Bob', 'Charlie', 'David'],\n",
        "    'Age': [25, 30, 35, 40]\n",
        "}\n",
        "\n",
        "df = pd.DataFrame(data)\n",
        "\n",
        "# Add a new column 'Age Group' based on 'Age'\n",
        "df['Age Group'] = df['Age'].apply(lambda x: 'Young' if x < 30 else 'Adult')\n",
        "\n",
        "# Display the updated DataFrame\n",
        "print(df)"
      ],
      "metadata": {
        "colab": {
          "base_uri": "https://localhost:8080/"
        },
        "id": "exvOkXiyZwhs",
        "outputId": "96a69efa-9350-4789-daaf-77f43461e040"
      },
      "execution_count": 6,
      "outputs": [
        {
          "output_type": "stream",
          "name": "stdout",
          "text": [
            "      Name  Age Age Group\n",
            "0    Alice   25     Young\n",
            "1      Bob   30     Adult\n",
            "2  Charlie   35     Adult\n",
            "3    David   40     Adult\n"
          ]
        }
      ]
    },
    {
      "cell_type": "markdown",
      "source": [
        "Q7: Write a program to perform element-wise multiplication of two NumPy arrays?"
      ],
      "metadata": {
        "id": "3eV3AcuDZxaW"
      }
    },
    {
      "cell_type": "code",
      "source": [
        "import numpy as np\n",
        "\n",
        "# Define two NumPy arrays\n",
        "arr1 = np.array([1, 2, 3, 4])\n",
        "arr2 = np.array([5, 6, 7, 8])\n",
        "\n",
        "# Element-wise multiplication\n",
        "result = arr1 * arr2  # or np.multiply(arr1, arr2)\n",
        "\n",
        "# Print the result\n",
        "print(\"Array 1:\", arr1)\n",
        "print(\"Array 2:\", arr2)\n",
        "print(\"Element-wise Multiplication:\", result)"
      ],
      "metadata": {
        "colab": {
          "base_uri": "https://localhost:8080/"
        },
        "id": "OKKyImnwZx_Y",
        "outputId": "7c2eb453-4f42-48d2-b186-43ba2bf6ffbf"
      },
      "execution_count": 7,
      "outputs": [
        {
          "output_type": "stream",
          "name": "stdout",
          "text": [
            "Array 1: [1 2 3 4]\n",
            "Array 2: [5 6 7 8]\n",
            "Element-wise Multiplication: [ 5 12 21 32]\n"
          ]
        }
      ]
    },
    {
      "cell_type": "markdown",
      "source": [
        "Q8:  Create a line plot with multiple lines using Matplotlib?"
      ],
      "metadata": {
        "id": "y6XWOC2vZytw"
      }
    },
    {
      "cell_type": "code",
      "source": [
        "import matplotlib.pyplot as plt\n",
        "\n",
        "# Sample data\n",
        "x = [1, 2, 3, 4, 5]\n",
        "y1 = [10, 20, 30, 40, 50]  # First line\n",
        "y2 = [5, 15, 25, 35, 45]   # Second line\n",
        "y3 = [2, 10, 22, 32, 42]   # Third line\n",
        "\n",
        "# Create a line plot with multiple lines\n",
        "plt.plot(x, y1, marker='o', linestyle='-', color='blue', label='Line 1')\n",
        "plt.plot(x, y2, marker='s', linestyle='--', color='red', label='Line 2')\n",
        "plt.plot(x, y3, marker='^', linestyle='-.', color='green', label='Line 3')\n",
        "\n",
        "# Add labels and title\n",
        "plt.xlabel('X-axis')\n",
        "plt.ylabel('Y-axis')\n",
        "plt.title('Multiple Line Plot')\n",
        "\n",
        "# Show legend\n",
        "plt.legend()\n",
        "\n",
        "# Display the plot\n",
        "plt.show()"
      ],
      "metadata": {
        "colab": {
          "base_uri": "https://localhost:8080/",
          "height": 472
        },
        "id": "Efbw4MISZzRX",
        "outputId": "622fc3e5-22d2-4248-e277-eacc9e2ca821"
      },
      "execution_count": 8,
      "outputs": [
        {
          "output_type": "display_data",
          "data": {
            "text/plain": [
              "<Figure size 640x480 with 1 Axes>"
            ],
            "image/png": "[encoded data removed]"
          },
          "metadata": {}
        }
      ]
    },
    {
      "cell_type": "markdown",
      "source": [
        "Q9:  Generate a Pandas DataFrame and filter rows where a column value is greater than a threshold?\n"
      ],
      "metadata": {
        "id": "QFhF9g-cZ0MD"
      }
    },
    {
      "cell_type": "code",
      "source": [
        "import pandas as pd\n",
        "\n",
        "# Create a sample DataFrame\n",
        "data = {\n",
        "    'Name': ['Alice', 'Bob', 'Charlie', 'David', 'Eve'],\n",
        "    'Age': [25, 30, 35, 40, 22]\n",
        "}\n",
        "\n",
        "df = pd.DataFrame(data)\n",
        "\n",
        "# Define the threshold\n",
        "threshold = 30\n",
        "\n",
        "# Filter rows where 'Age' is greater than the threshold\n",
        "filtered_df = df[df['Age'] > threshold]\n",
        "\n",
        "# Display the filtered DataFrame\n",
        "print(filtered_df)"
      ],
      "metadata": {
        "colab": {
          "base_uri": "https://localhost:8080/"
        },
        "id": "1y2mhknxZ1Fk",
        "outputId": "880de1b0-e72d-4ba6-c8ec-3ba07135426d"
      },
      "execution_count": 9,
      "outputs": [
        {
          "output_type": "stream",
          "name": "stdout",
          "text": [
            "      Name  Age\n",
            "2  Charlie   35\n",
            "3    David   40\n"
          ]
        }
      ]
    },
    {
      "cell_type": "markdown",
      "source": [
        "Q10:  Create a histogram using Seaborn to visualize a distribution?"
      ],
      "metadata": {
        "id": "aXAG-JRWZ1qx"
      }
    },
    {
      "cell_type": "code",
      "source": [
        "import seaborn as sns\n",
        "import matplotlib.pyplot as plt\n",
        "import numpy as np\n",
        "\n",
        "# Generate sample data\n",
        "data = np.random.normal(loc=50, scale=10, size=200)  # Normal distribution with mean=50, std=10\n",
        "\n",
        "# Create a histogram\n",
        "sns.histplot(data, bins=20, kde=True, color='blue')\n",
        "\n",
        "# Add labels and title\n",
        "plt.xlabel('Value')\n",
        "plt.ylabel('Frequency')\n",
        "plt.title('Histogram of Data Distribution')\n",
        "\n",
        "# Display the plot\n",
        "plt.show()"
      ],
      "metadata": {
        "colab": {
          "base_uri": "https://localhost:8080/",
          "height": 472
        },
        "id": "Hxoww3nsZ2TO",
        "outputId": "e5afeb0d-7e2a-4818-a102-94fa566e2c57"
      },
      "execution_count": 10,
      "outputs": [
        {
          "output_type": "display_data",
          "data": {
            "text/plain": [
              "<Figure size 640x480 with 1 Axes>"
            ],
            "image/png": "[encoded data removed]"
          },
          "metadata": {}
        }
      ]
    },
    {
      "cell_type": "markdown",
      "source": [
        "Q11:  Perform matrix multiplication using NumPy?"
      ],
      "metadata": {
        "id": "KMUe4qvpZ2-k"
      }
    },
    {
      "cell_type": "code",
      "source": [
        "import numpy as np\n",
        "\n",
        "# Define two matrices\n",
        "A = np.array([[1, 2],\n",
        "              [3, 4]])\n",
        "\n",
        "B = np.array([[5, 6],\n",
        "              [7, 8]])\n",
        "\n",
        "# Perform matrix multiplication\n",
        "result = A @ B  # or np.dot(A, B)\n",
        "\n",
        "# Print the result\n",
        "print(\"Matrix A:\\n\", A)\n",
        "print(\"Matrix B:\\n\", B)\n",
        "print(\"Matrix Multiplication Result:\\n\", result)"
      ],
      "metadata": {
        "colab": {
          "base_uri": "https://localhost:8080/"
        },
        "id": "7jSaeku1Z31k",
        "outputId": "dc8cfa75-9a6d-4095-8062-a922447c5dd2"
      },
      "execution_count": 11,
      "outputs": [
        {
          "output_type": "stream",
          "name": "stdout",
          "text": [
            "Matrix A:\n",
            " [[1 2]\n",
            " [3 4]]\n",
            "Matrix B:\n",
            " [[5 6]\n",
            " [7 8]]\n",
            "Matrix Multiplication Result:\n",
            " [[19 22]\n",
            " [43 50]]\n"
          ]
        }
      ]
    },
    {
      "cell_type": "markdown",
      "source": [
        "Q12:  Use Pandas to load a CSV file and display its first 5 rows?\n"
      ],
      "metadata": {
        "id": "hmhOXCwnZ4ba"
      }
    },
    {
      "cell_type": "code",
      "source": [
        "import pandas as pd\n",
        "\n",
        "# Load the CSV file\n",
        "df = pd.read_csv('student detail.csv')\n",
        "\n",
        "# Display the first five rows\n",
        "print(df.head())"
      ],
      "metadata": {
        "colab": {
          "base_uri": "https://localhost:8080/",
          "height": 356
        },
        "id": "9n1vK_99Z5AQ",
        "outputId": "ebdf9e0f-b588-4a60-adad-a77b601a9b28"
      },
      "execution_count": 15,
      "outputs": [
        {
          "output_type": "error",
          "ename": "FileNotFoundError",
          "evalue": "[Errno 2] No such file or directory: 'student detail.csv'",
          "traceback": [
            "\u001b[0;31m---------------------------------------------------------------------------\u001b[0m",
            "\u001b[0;31mFileNotFoundError\u001b[0m                         Traceback (most recent call last)",
            "\u001b[0;32m<ipython-input-15-96ffb23f58f0>\u001b[0m in \u001b[0;36m<cell line: 0>\u001b[0;34m()\u001b[0m\n\u001b[1;32m      2\u001b[0m \u001b[0;34m\u001b[0m\u001b[0m\n\u001b[1;32m      3\u001b[0m \u001b[0;31m# Load the CSV file (replace 'your_file.csv' with the actual file path)\u001b[0m\u001b[0;34m\u001b[0m\u001b[0;34m\u001b[0m\u001b[0m\n\u001b[0;32m----> 4\u001b[0;31m \u001b[0mdf\u001b[0m \u001b[0;34m=\u001b[0m \u001b[0mpd\u001b[0m\u001b[0;34m.\u001b[0m\u001b[0mread_csv\u001b[0m\u001b[0;34m(\u001b[0m\u001b[0;34m'student detail.csv'\u001b[0m\u001b[0;34m)\u001b[0m\u001b[0;34m\u001b[0m\u001b[0;34m\u001b[0m\u001b[0m\n\u001b[0m\u001b[1;32m      5\u001b[0m \u001b[0;34m\u001b[0m\u001b[0m\n\u001b[1;32m      6\u001b[0m \u001b[0;31m# Display the first five rows\u001b[0m\u001b[0;34m\u001b[0m\u001b[0;34m\u001b[0m\u001b[0m\n",
            "\u001b[0;32m/usr/local/lib/python3.11/dist-packages/pandas/io/parsers/readers.py\u001b[0m in \u001b[0;36mread_csv\u001b[0;34m(filepath_or_buffer, sep, delimiter, header, names, index_col, usecols, dtype, engine, converters, true_values, false_values, skipinitialspace, skiprows, skipfooter, nrows, na_values, keep_default_na, na_filter, verbose, skip_blank_lines, parse_dates, infer_datetime_format, keep_date_col, date_parser, date_format, dayfirst, cache_dates, iterator, chunksize, compression, thousands, decimal, lineterminator, quotechar, quoting, doublequote, escapechar, comment, encoding, encoding_errors, dialect, on_bad_lines, delim_whitespace, low_memory, memory_map, float_precision, storage_options, dtype_backend)\u001b[0m\n\u001b[1;32m   1024\u001b[0m     \u001b[0mkwds\u001b[0m\u001b[0;34m.\u001b[0m\u001b[0mupdate\u001b[0m\u001b[0;34m(\u001b[0m\u001b[0mkwds_defaults\u001b[0m\u001b[0;34m)\u001b[0m\u001b[0;34m\u001b[0m\u001b[0;34m\u001b[0m\u001b[0m\n\u001b[1;32m   1025\u001b[0m \u001b[0;34m\u001b[0m\u001b[0m\n\u001b[0;32m-> 1026\u001b[0;31m     \u001b[0;32mreturn\u001b[0m \u001b[0m_read\u001b[0m\u001b[0;34m(\u001b[0m\u001b[0mfilepath_or_buffer\u001b[0m\u001b[0;34m,\u001b[0m \u001b[0mkwds\u001b[0m\u001b[0;34m)\u001b[0m\u001b[0;34m\u001b[0m\u001b[0;34m\u001b[0m\u001b[0m\n\u001b[0m\u001b[1;32m   1027\u001b[0m \u001b[0;34m\u001b[0m\u001b[0m\n\u001b[1;32m   1028\u001b[0m \u001b[0;34m\u001b[0m\u001b[0m\n",
            "\u001b[0;32m/usr/local/lib/python3.11/dist-packages/pandas/io/parsers/readers.py\u001b[0m in \u001b[0;36m_read\u001b[0;34m(filepath_or_buffer, kwds)\u001b[0m\n\u001b[1;32m    618\u001b[0m \u001b[0;34m\u001b[0m\u001b[0m\n\u001b[1;32m    619\u001b[0m     \u001b[0;31m# Create the parser.\u001b[0m\u001b[0;34m\u001b[0m\u001b[0;34m\u001b[0m\u001b[0m\n\u001b[0;32m--> 620\u001b[0;31m     \u001b[0mparser\u001b[0m \u001b[0;34m=\u001b[0m \u001b[0mTextFileReader\u001b[0m\u001b[0;34m(\u001b[0m\u001b[0mfilepath_or_buffer\u001b[0m\u001b[0;34m,\u001b[0m \u001b[0;34m**\u001b[0m\u001b[0mkwds\u001b[0m\u001b[0;34m)\u001b[0m\u001b[0;34m\u001b[0m\u001b[0;34m\u001b[0m\u001b[0m\n\u001b[0m\u001b[1;32m    621\u001b[0m \u001b[0;34m\u001b[0m\u001b[0m\n\u001b[1;32m    622\u001b[0m     \u001b[0;32mif\u001b[0m \u001b[0mchunksize\u001b[0m \u001b[0;32mor\u001b[0m \u001b[0miterator\u001b[0m\u001b[0;34m:\u001b[0m\u001b[0;34m\u001b[0m\u001b[0;34m\u001b[0m\u001b[0m\n",
            "\u001b[0;32m/usr/local/lib/python3.11/dist-packages/pandas/io/parsers/readers.py\u001b[0m in \u001b[0;36m__init__\u001b[0;34m(self, f, engine, **kwds)\u001b[0m\n\u001b[1;32m   1618\u001b[0m \u001b[0;34m\u001b[0m\u001b[0m\n\u001b[1;32m   1619\u001b[0m         \u001b[0mself\u001b[0m\u001b[0;34m.\u001b[0m\u001b[0mhandles\u001b[0m\u001b[0;34m:\u001b[0m \u001b[0mIOHandles\u001b[0m \u001b[0;34m|\u001b[0m \u001b[0;32mNone\u001b[0m \u001b[0;34m=\u001b[0m \u001b[0;32mNone\u001b[0m\u001b[0;34m\u001b[0m\u001b[0;34m\u001b[0m\u001b[0m\n\u001b[0;32m-> 1620\u001b[0;31m         \u001b[0mself\u001b[0m\u001b[0;34m.\u001b[0m\u001b[0m_engine\u001b[0m \u001b[0;34m=\u001b[0m \u001b[0mself\u001b[0m\u001b[0;34m.\u001b[0m\u001b[0m_make_engine\u001b[0m\u001b[0;34m(\u001b[0m\u001b[0mf\u001b[0m\u001b[0;34m,\u001b[0m \u001b[0mself\u001b[0m\u001b[0;34m.\u001b[0m\u001b[0mengine\u001b[0m\u001b[0;34m)\u001b[0m\u001b[0;34m\u001b[0m\u001b[0;34m\u001b[0m\u001b[0m\n\u001b[0m\u001b[1;32m   1621\u001b[0m \u001b[0;34m\u001b[0m\u001b[0m\n\u001b[1;32m   1622\u001b[0m     \u001b[0;32mdef\u001b[0m \u001b[0mclose\u001b[0m\u001b[0;34m(\u001b[0m\u001b[0mself\u001b[0m\u001b[0;34m)\u001b[0m \u001b[0;34m->\u001b[0m \u001b[0;32mNone\u001b[0m\u001b[0;34m:\u001b[0m\u001b[0;34m\u001b[0m\u001b[0;34m\u001b[0m\u001b[0m\n",
            "\u001b[0;32m/usr/local/lib/python3.11/dist-packages/pandas/io/parsers/readers.py\u001b[0m in \u001b[0;36m_make_engine\u001b[0;34m(self, f, engine)\u001b[0m\n\u001b[1;32m   1878\u001b[0m                 \u001b[0;32mif\u001b[0m \u001b[0;34m\"b\"\u001b[0m \u001b[0;32mnot\u001b[0m \u001b[0;32min\u001b[0m \u001b[0mmode\u001b[0m\u001b[0;34m:\u001b[0m\u001b[0;34m\u001b[0m\u001b[0;34m\u001b[0m\u001b[0m\n\u001b[1;32m   1879\u001b[0m                     \u001b[0mmode\u001b[0m \u001b[0;34m+=\u001b[0m \u001b[0;34m\"b\"\u001b[0m\u001b[0;34m\u001b[0m\u001b[0;34m\u001b[0m\u001b[0m\n\u001b[0;32m-> 1880\u001b[0;31m             self.handles = get_handle(\n\u001b[0m\u001b[1;32m   1881\u001b[0m                 \u001b[0mf\u001b[0m\u001b[0;34m,\u001b[0m\u001b[0;34m\u001b[0m\u001b[0;34m\u001b[0m\u001b[0m\n\u001b[1;32m   1882\u001b[0m                 \u001b[0mmode\u001b[0m\u001b[0;34m,\u001b[0m\u001b[0;34m\u001b[0m\u001b[0;34m\u001b[0m\u001b[0m\n",
            "\u001b[0;32m/usr/local/lib/python3.11/dist-packages/pandas/io/common.py\u001b[0m in \u001b[0;36mget_handle\u001b[0;34m(path_or_buf, mode, encoding, compression, memory_map, is_text, errors, storage_options)\u001b[0m\n\u001b[1;32m    871\u001b[0m         \u001b[0;32mif\u001b[0m \u001b[0mioargs\u001b[0m\u001b[0;34m.\u001b[0m\u001b[0mencoding\u001b[0m \u001b[0;32mand\u001b[0m \u001b[0;34m\"b\"\u001b[0m \u001b[0;32mnot\u001b[0m \u001b[0;32min\u001b[0m \u001b[0mioargs\u001b[0m\u001b[0;34m.\u001b[0m\u001b[0mmode\u001b[0m\u001b[0;34m:\u001b[0m\u001b[0;34m\u001b[0m\u001b[0;34m\u001b[0m\u001b[0m\n\u001b[1;32m    872\u001b[0m             \u001b[0;31m# Encoding\u001b[0m\u001b[0;34m\u001b[0m\u001b[0;34m\u001b[0m\u001b[0m\n\u001b[0;32m--> 873\u001b[0;31m             handle = open(\n\u001b[0m\u001b[1;32m    874\u001b[0m                 \u001b[0mhandle\u001b[0m\u001b[0;34m,\u001b[0m\u001b[0;34m\u001b[0m\u001b[0;34m\u001b[0m\u001b[0m\n\u001b[1;32m    875\u001b[0m                 \u001b[0mioargs\u001b[0m\u001b[0;34m.\u001b[0m\u001b[0mmode\u001b[0m\u001b[0;34m,\u001b[0m\u001b[0;34m\u001b[0m\u001b[0;34m\u001b[0m\u001b[0m\n",
            "\u001b[0;31mFileNotFoundError\u001b[0m: [Errno 2] No such file or directory: 'student detail.csv'"
          ]
        }
      ]
    },
    {
      "cell_type": "markdown",
      "source": [
        "Q13: Create a 3D scatter plot using Plotly?"
      ],
      "metadata": {
        "id": "aMjnE9osZ5l4"
      }
    },
    {
      "cell_type": "code",
      "source": [
        "import plotly.express as px\n",
        "import pandas as pd\n",
        "import numpy as np\n",
        "\n",
        "# Generate sample data\n",
        "np.random.seed(42)\n",
        "data = {\n",
        "    'X': np.random.rand(50) * 10,\n",
        "    'Y': np.random.rand(50) * 10,\n",
        "    'Z': np.random.rand(50) * 10,\n",
        "    'Category': np.random.choice(['A', 'B', 'C'], 50)  # Categorical variable for color\n",
        "}\n",
        "\n",
        "df = pd.DataFrame(data)\n",
        "\n",
        "# Create a 3D scatter plot\n",
        "fig = px.scatter_3d(df, x='X', y='Y', z='Z', color='Category',\n",
        "                     title=\"3D Scatter Plot Example\", size_max=10)\n",
        "\n",
        "# Show the plot\n",
        "fig.show()"
      ],
      "metadata": {
        "colab": {
          "base_uri": "https://localhost:8080/",
          "height": 542
        },
        "id": "zcdHnVOBZ6KF",
        "outputId": "afb6a7d5-a031-4b58-ba73-ec8515adbee9"
      },
      "execution_count": 13,
      "outputs": [
        {
          "output_type": "display_data",
          "data": {
            "text/html": [
              "<html>\n",
              "<head><meta charset=\"utf-8\" /></head>\n",
              "<body>\n",
              "    <div>            <script src=\"https://cdnjs.cloudflare.com/ajax/libs/mathjax/2.7.5/MathJax.js?config=TeX-AMS-MML_SVG\"></script><script type=\"text/javascript\">if (window.MathJax && window.MathJax.Hub && window.MathJax.Hub.Config) {window.MathJax.Hub.Config({SVG: {font: \"STIX-Web\"}});}</script>                <script type=\"text/javascript\">window.PlotlyConfig = {MathJaxConfig: 'local'};</script>\n",
              "        <script charset=\"utf-8\" src=\"https://cdn.plot.ly/plotly-2.35.2.min.js\"></script>                <div id=\"ee9d5051-86dd-4289-9901-10802db88a9b\" class=\"plotly-graph-div\" style=\"height:525px; width:100%;\"></div>            <script type=\"text/javascript\">                                    window.PLOTLYENV=window.PLOTLYENV || {};                                    if (document.getElementById(\"ee9d5051-86dd-4289-9901-10802db88a9b\")) {                    Plotly.newPlot(                        \"ee9d5051-86dd-4289-9901-10802db88a9b\",                        [{\"hovertemplate\":\"Category=A\\u003cbr\\u003eX=%{x}\\u003cbr\\u003eY=%{y}\\u003cbr\\u003eZ=%{z}\\u003cextra\\u003e\\u003c\\u002fextra\\u003e\",\"legendgroup\":\"A\",\"marker\":{\"color\":\"#636efa\",\"symbol\":\"circle\"},\"mode\":\"markers\",\"name\":\"A\",\"scene\":\"scene\",\"showlegend\":true,\"x\":[3.745401188473625,9.50714306409916,1.5599452033620265,8.324426408004218,1.8340450985343382,1.3949386065204183,2.9214464853521815,7.851759613930136,9.656320330745594,8.08397348116461,6.842330265121569,1.2203823484477883,4.951769101112702],\"y\":[9.695846277645586,7.7513282336111455,9.218742350231167,8.287375091519294,5.426960831582485,1.987156815341724,0.05522117123602399,7.2900716804098735,3.109823217156622,3.2518332202674705,8.872127425763265,1.195942459383017,7.13244787222995],\"z\":[0.3142918568673425,6.364104112637804,2.4929222914887497,9.29697652342573,8.714605901877178,8.960912999234932,3.1800347497186388,4.271077886262563,9.429097039125192,3.2320293202075523,3.63629602379294,9.624472949421111,2.5178229582536416],\"type\":\"scatter3d\"},{\"hovertemplate\":\"Category=C\\u003cbr\\u003eX=%{x}\\u003cbr\\u003eY=%{y}\\u003cbr\\u003eZ=%{z}\\u003cextra\\u003e\\u003c\\u002fextra\\u003e\",\"legendgroup\":\"C\",\"marker\":{\"color\":\"#EF553B\",\"symbol\":\"circle\"},\"mode\":\"markers\",\"name\":\"C\",\"scene\":\"scene\",\"showlegend\":true,\"x\":[7.319939418114051,6.011150117432088,7.080725777960454,0.20584494295802447,9.699098521619943,2.1233911067827616,2.9122914019804194,6.118528947223795,3.663618432936917,1.9967378215835974,5.142344384136116,5.924145688620425,6.075448519014383,1.7052412368729153,0.6505159298527952,9.488855372533333,3.0461376917337066,4.4015249373960135,9.093204020787821,2.587799816000169,5.200680211778108,5.4671027934327965],\"y\":[9.394989415641891,0.45227288910538066,3.2533033076326436,3.8867728968948203,2.713490317738959,3.567533266935893,9.868869366005173,7.722447692966574,8.154614284548341,7.712703466859457,0.7404465173409036,3.5846572854427263,8.631034258755935,6.232981268275579,3.308980248526492,0.6355835028602363,7.29606178338064,4.722149251619493,5.612771975694963,7.70967179954561,4.275410183585496,0.2541912674409519],\"z\":[3.143559810763267,2.2879816549162246,0.7697990982879299,2.8975145291376805,1.6122128725400442,8.08120379564417,5.393422419156507,8.074401551640625,1.1005192452767676,8.18014765922493,8.607305832563434,0.06952130531190703,4.17411003148779,2.2210781047073027,1.198653673336828,3.3761517140362796,5.187906217433661,9.717820827209607,3.0087830981676964,2.848404943774676,5.026790232288615,0.5147875124998935],\"type\":\"scatter3d\"},{\"hovertemplate\":\"Category=B\\u003cbr\\u003eX=%{x}\\u003cbr\\u003eY=%{y}\\u003cbr\\u003eZ=%{z}\\u003cextra\\u003e\\u003c\\u002fextra\\u003e\",\"legendgroup\":\"B\",\"marker\":{\"color\":\"#00cc96\",\"symbol\":\"circle\"},\"mode\":\"markers\",\"name\":\"B\",\"scene\":\"scene\",\"showlegend\":true,\"x\":[5.986584841970366,1.5601864044243652,0.5808361216819946,8.661761457749352,1.8182496720710062,3.0424224295953772,5.247564316322379,4.319450186421157,4.56069984217036,0.46450412719997725,0.9767211400638387,0.34388521115218396,6.62522284353982,3.1171107608941098,1.8485445552552704],\"y\":[8.948273504276488,5.978999788110851,0.884925020519195,1.959828624191452,2.8093450968738076,1.4092422497476265,8.021969807540398,0.7455064367977082,7.068573438476172,1.1586905952512971,6.3755747135521315,7.607850486168974,4.937955963643907,5.227328293819941,1.0789142699330445],\"z\":[5.085706911647028,9.07566473926093,4.103829230356297,7.555511385430487,6.334037565104235,8.036720768991145,1.8657005888603584,8.925589984899778,2.279351625419417,5.107473025775658,7.030189588951778,4.972485058923855,0.36886947354532795,6.095643339798968,2.7864646423661146],\"type\":\"scatter3d\"}],                        {\"template\":{\"data\":{\"histogram2dcontour\":[{\"type\":\"histogram2dcontour\",\"colorbar\":{\"outlinewidth\":0,\"ticks\":\"\"},\"colorscale\":[[0.0,\"#0d0887\"],[0.1111111111111111,\"#46039f\"],[0.2222222222222222,\"#7201a8\"],[0.3333333333333333,\"#9c179e\"],[0.4444444444444444,\"#bd3786\"],[0.5555555555555556,\"#d8576b\"],[0.6666666666666666,\"#ed7953\"],[0.7777777777777778,\"#fb9f3a\"],[0.8888888888888888,\"#fdca26\"],[1.0,\"#f0f921\"]]}],\"choropleth\":[{\"type\":\"choropleth\",\"colorbar\":{\"outlinewidth\":0,\"ticks\":\"\"}}],\"histogram2d\":[{\"type\":\"histogram2d\",\"colorbar\":{\"outlinewidth\":0,\"ticks\":\"\"},\"colorscale\":[[0.0,\"#0d0887\"],[0.1111111111111111,\"#46039f\"],[0.2222222222222222,\"#7201a8\"],[0.3333333333333333,\"#9c179e\"],[0.4444444444444444,\"#bd3786\"],[0.5555555555555556,\"#d8576b\"],[0.6666666666666666,\"#ed7953\"],[0.7777777777777778,\"#fb9f3a\"],[0.8888888888888888,\"#fdca26\"],[1.0,\"#f0f921\"]]}],\"heatmap\":[{\"type\":\"heatmap\",\"colorbar\":{\"outlinewidth\":0,\"ticks\":\"\"},\"colorscale\":[[0.0,\"#0d0887\"],[0.1111111111111111,\"#46039f\"],[0.2222222222222222,\"#7201a8\"],[0.3333333333333333,\"#9c179e\"],[0.4444444444444444,\"#bd3786\"],[0.5555555555555556,\"#d8576b\"],[0.6666666666666666,\"#ed7953\"],[0.7777777777777778,\"#fb9f3a\"],[0.8888888888888888,\"#fdca26\"],[1.0,\"#f0f921\"]]}],\"heatmapgl\":[{\"type\":\"heatmapgl\",\"colorbar\":{\"outlinewidth\":0,\"ticks\":\"\"},\"colorscale\":[[0.0,\"#0d0887\"],[0.1111111111111111,\"#46039f\"],[0.2222222222222222,\"#7201a8\"],[0.3333333333333333,\"#9c179e\"],[0.4444444444444444,\"#bd3786\"],[0.5555555555555556,\"#d8576b\"],[0.6666666666666666,\"#ed7953\"],[0.7777777777777778,\"#fb9f3a\"],[0.8888888888888888,\"#fdca26\"],[1.0,\"#f0f921\"]]}],\"contourcarpet\":[{\"type\":\"contourcarpet\",\"colorbar\":{\"outlinewidth\":0,\"ticks\":\"\"}}],\"contour\":[{\"type\":\"contour\",\"colorbar\":{\"outlinewidth\":0,\"ticks\":\"\"},\"colorscale\":[[0.0,\"#0d0887\"],[0.1111111111111111,\"#46039f\"],[0.2222222222222222,\"#7201a8\"],[0.3333333333333333,\"#9c179e\"],[0.4444444444444444,\"#bd3786\"],[0.5555555555555556,\"#d8576b\"],[0.6666666666666666,\"#ed7953\"],[0.7777777777777778,\"#fb9f3a\"],[0.8888888888888888,\"#fdca26\"],[1.0,\"#f0f921\"]]}],\"surface\":[{\"type\":\"surface\",\"colorbar\":{\"outlinewidth\":0,\"ticks\":\"\"},\"colorscale\":[[0.0,\"#0d0887\"],[0.1111111111111111,\"#46039f\"],[0.2222222222222222,\"#7201a8\"],[0.3333333333333333,\"#9c179e\"],[0.4444444444444444,\"#bd3786\"],[0.5555555555555556,\"#d8576b\"],[0.6666666666666666,\"#ed7953\"],[0.7777777777777778,\"#fb9f3a\"],[0.8888888888888888,\"#fdca26\"],[1.0,\"#f0f921\"]]}],\"mesh3d\":[{\"type\":\"mesh3d\",\"colorbar\":{\"outlinewidth\":0,\"ticks\":\"\"}}],\"scatter\":[{\"fillpattern\":{\"fillmode\":\"overlay\",\"size\":10,\"solidity\":0.2},\"type\":\"scatter\"}],\"parcoords\":[{\"type\":\"parcoords\",\"line\":{\"colorbar\":{\"outlinewidth\":0,\"ticks\":\"\"}}}],\"scatterpolargl\":[{\"type\":\"scatterpolargl\",\"marker\":{\"colorbar\":{\"outlinewidth\":0,\"ticks\":\"\"}}}],\"bar\":[{\"error_x\":{\"color\":\"#2a3f5f\"},\"error_y\":{\"color\":\"#2a3f5f\"},\"marker\":{\"line\":{\"color\":\"#E5ECF6\",\"width\":0.5},\"pattern\":{\"fillmode\":\"overlay\",\"size\":10,\"solidity\":0.2}},\"type\":\"bar\"}],\"scattergeo\":[{\"type\":\"scattergeo\",\"marker\":{\"colorbar\":{\"outlinewidth\":0,\"ticks\":\"\"}}}],\"scatterpolar\":[{\"type\":\"scatterpolar\",\"marker\":{\"colorbar\":{\"outlinewidth\":0,\"ticks\":\"\"}}}],\"histogram\":[{\"marker\":{\"pattern\":{\"fillmode\":\"overlay\",\"size\":10,\"solidity\":0.2}},\"type\":\"histogram\"}],\"scattergl\":[{\"type\":\"scattergl\",\"marker\":{\"colorbar\":{\"outlinewidth\":0,\"ticks\":\"\"}}}],\"scatter3d\":[{\"type\":\"scatter3d\",\"line\":{\"colorbar\":{\"outlinewidth\":0,\"ticks\":\"\"}},\"marker\":{\"colorbar\":{\"outlinewidth\":0,\"ticks\":\"\"}}}],\"scattermapbox\":[{\"type\":\"scattermapbox\",\"marker\":{\"colorbar\":{\"outlinewidth\":0,\"ticks\":\"\"}}}],\"scatterternary\":[{\"type\":\"scatterternary\",\"marker\":{\"colorbar\":{\"outlinewidth\":0,\"ticks\":\"\"}}}],\"scattercarpet\":[{\"type\":\"scattercarpet\",\"marker\":{\"colorbar\":{\"outlinewidth\":0,\"ticks\":\"\"}}}],\"carpet\":[{\"aaxis\":{\"endlinecolor\":\"#2a3f5f\",\"gridcolor\":\"white\",\"linecolor\":\"white\",\"minorgridcolor\":\"white\",\"startlinecolor\":\"#2a3f5f\"},\"baxis\":{\"endlinecolor\":\"#2a3f5f\",\"gridcolor\":\"white\",\"linecolor\":\"white\",\"minorgridcolor\":\"white\",\"startlinecolor\":\"#2a3f5f\"},\"type\":\"carpet\"}],\"table\":[{\"cells\":{\"fill\":{\"color\":\"#EBF0F8\"},\"line\":{\"color\":\"white\"}},\"header\":{\"fill\":{\"color\":\"#C8D4E3\"},\"line\":{\"color\":\"white\"}},\"type\":\"table\"}],\"barpolar\":[{\"marker\":{\"line\":{\"color\":\"#E5ECF6\",\"width\":0.5},\"pattern\":{\"fillmode\":\"overlay\",\"size\":10,\"solidity\":0.2}},\"type\":\"barpolar\"}],\"pie\":[{\"automargin\":true,\"type\":\"pie\"}]},\"layout\":{\"autotypenumbers\":\"strict\",\"colorway\":[\"#636efa\",\"#EF553B\",\"#00cc96\",\"#ab63fa\",\"#FFA15A\",\"#19d3f3\",\"#FF6692\",\"#B6E880\",\"#FF97FF\",\"#FECB52\"],\"font\":{\"color\":\"#2a3f5f\"},\"hovermode\":\"closest\",\"hoverlabel\":{\"align\":\"left\"},\"paper_bgcolor\":\"white\",\"plot_bgcolor\":\"#E5ECF6\",\"polar\":{\"bgcolor\":\"#E5ECF6\",\"angularaxis\":{\"gridcolor\":\"white\",\"linecolor\":\"white\",\"ticks\":\"\"},\"radialaxis\":{\"gridcolor\":\"white\",\"linecolor\":\"white\",\"ticks\":\"\"}},\"ternary\":{\"bgcolor\":\"#E5ECF6\",\"aaxis\":{\"gridcolor\":\"white\",\"linecolor\":\"white\",\"ticks\":\"\"},\"baxis\":{\"gridcolor\":\"white\",\"linecolor\":\"white\",\"ticks\":\"\"},\"caxis\":{\"gridcolor\":\"white\",\"linecolor\":\"white\",\"ticks\":\"\"}},\"coloraxis\":{\"colorbar\":{\"outlinewidth\":0,\"ticks\":\"\"}},\"colorscale\":{\"sequential\":[[0.0,\"#0d0887\"],[0.1111111111111111,\"#46039f\"],[0.2222222222222222,\"#7201a8\"],[0.3333333333333333,\"#9c179e\"],[0.4444444444444444,\"#bd3786\"],[0.5555555555555556,\"#d8576b\"],[0.6666666666666666,\"#ed7953\"],[0.7777777777777778,\"#fb9f3a\"],[0.8888888888888888,\"#fdca26\"],[1.0,\"#f0f921\"]],\"sequentialminus\":[[0.0,\"#0d0887\"],[0.1111111111111111,\"#46039f\"],[0.2222222222222222,\"#7201a8\"],[0.3333333333333333,\"#9c179e\"],[0.4444444444444444,\"#bd3786\"],[0.5555555555555556,\"#d8576b\"],[0.6666666666666666,\"#ed7953\"],[0.7777777777777778,\"#fb9f3a\"],[0.8888888888888888,\"#fdca26\"],[1.0,\"#f0f921\"]],\"diverging\":[[0,\"#8e0152\"],[0.1,\"#c51b7d\"],[0.2,\"#de77ae\"],[0.3,\"#f1b6da\"],[0.4,\"#fde0ef\"],[0.5,\"#f7f7f7\"],[0.6,\"#e6f5d0\"],[0.7,\"#b8e186\"],[0.8,\"#7fbc41\"],[0.9,\"#4d9221\"],[1,\"#276419\"]]},\"xaxis\":{\"gridcolor\":\"white\",\"linecolor\":\"white\",\"ticks\":\"\",\"title\":{\"standoff\":15},\"zerolinecolor\":\"white\",\"automargin\":true,\"zerolinewidth\":2},\"yaxis\":{\"gridcolor\":\"white\",\"linecolor\":\"white\",\"ticks\":\"\",\"title\":{\"standoff\":15},\"zerolinecolor\":\"white\",\"automargin\":true,\"zerolinewidth\":2},\"scene\":{\"xaxis\":{\"backgroundcolor\":\"#E5ECF6\",\"gridcolor\":\"white\",\"linecolor\":\"white\",\"showbackground\":true,\"ticks\":\"\",\"zerolinecolor\":\"white\",\"gridwidth\":2},\"yaxis\":{\"backgroundcolor\":\"#E5ECF6\",\"gridcolor\":\"white\",\"linecolor\":\"white\",\"showbackground\":true,\"ticks\":\"\",\"zerolinecolor\":\"white\",\"gridwidth\":2},\"zaxis\":{\"backgroundcolor\":\"#E5ECF6\",\"gridcolor\":\"white\",\"linecolor\":\"white\",\"showbackground\":true,\"ticks\":\"\",\"zerolinecolor\":\"white\",\"gridwidth\":2}},\"shapedefaults\":{\"line\":{\"color\":\"#2a3f5f\"}},\"annotationdefaults\":{\"arrowcolor\":\"#2a3f5f\",\"arrowhead\":0,\"arrowwidth\":1},\"geo\":{\"bgcolor\":\"white\",\"landcolor\":\"#E5ECF6\",\"subunitcolor\":\"white\",\"showland\":true,\"showlakes\":true,\"lakecolor\":\"white\"},\"title\":{\"x\":0.05},\"mapbox\":{\"style\":\"light\"}}},\"scene\":{\"domain\":{\"x\":[0.0,1.0],\"y\":[0.0,1.0]},\"xaxis\":{\"title\":{\"text\":\"X\"}},\"yaxis\":{\"title\":{\"text\":\"Y\"}},\"zaxis\":{\"title\":{\"text\":\"Z\"}}},\"legend\":{\"title\":{\"text\":\"Category\"},\"tracegroupgap\":0},\"title\":{\"text\":\"3D Scatter Plot Example\"}},                        {\"responsive\": true}                    ).then(function(){\n",
              "                            \n",
              "var gd = document.getElementById('ee9d5051-86dd-4289-9901-10802db88a9b');\n",
              "var x = new MutationObserver(function (mutations, observer) {{\n",
              "        var display = window.getComputedStyle(gd).display;\n",
              "        if (!display || display === 'none') {{\n",
              "            console.log([gd, 'removed!']);\n",
              "            Plotly.purge(gd);\n",
              "            observer.disconnect();\n",
              "        }}\n",
              "}});\n",
              "\n",
              "// Listen for the removal of the full notebook cells\n",
              "var notebookContainer = gd.closest('#notebook-container');\n",
              "if (notebookContainer) {{\n",
              "    x.observe(notebookContainer, {childList: true});\n",
              "}}\n",
              "\n",
              "// Listen for the clearing of the current output cell\n",
              "var outputEl = gd.closest('.output');\n",
              "if (outputEl) {{\n",
              "    x.observe(outputEl, {childList: true});\n",
              "}}\n",
              "\n",
              "                        })                };                            </script>        </div>\n",
              "</body>\n",
              "</html>"
            ]
          },
          "metadata": {}
        }
      ]
    }
  ]
}